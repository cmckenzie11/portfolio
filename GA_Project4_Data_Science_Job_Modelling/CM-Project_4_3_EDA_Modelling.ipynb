{
 "cells": [
  {
   "cell_type": "markdown",
   "metadata": {},
   "source": [
    "# Project 4 - Part 3: Exploratory data analysis and modelling mean salary\n",
    "\n",
    "## [3.1 Import packages](#3.1)\n",
    "## [3.2 Load data](#3.2)\n",
    "\n",
    "## [3.3 Exploratory data analysis](#3.3)\n",
    "### [3.3.1 Summary statistics](#3.3.1)\n",
    "### [3.3.2 Target variable distribution](#3.3.2)\n",
    "### [3.3.3 Correlations](#3.3.3)\n",
    "\n",
    "## [3.4 Modelling factors that predict mean salary](#3.4)\n",
    "### [3.4.1 Define predictor matrix and target variable](#3.4.1)\n",
    "### [3.4.2 Straightforward linear regression modelling](#3.4.2)\n",
    "### [3.4.3 Linear regression with regularization](#3.4.3)\n",
    "### [3.4.4 Feature selection with Select K-best and Recursive feature elimination](#3.4.4)\n",
    "### [3.4.5 Re-try linear modelling after feature elimination](#3.4.5)\n",
    "### [3.4.6 Is linear regression modelling appropriate?](#3.4.6)\n",
    "### [3.4.7 How well is the model performing?](#3.4.7)\n",
    "### [3.4.8 What keywords have the greatest impact on salary?](#3.4.8)\n",
    "### [3.4.9 Does it make more sense to binarize the data?](#3.4.9)\n",
    "\n",
    "## [3.5 Classification modelling for salary class](#3.5)\n",
    "### [3.5.1 Define variables for classification](#3.5.1)\n",
    "### [3.5.2 Classification with K-nearest neighbors](#3.5.2)\n",
    "### [3.5.3 Classification with support vector machines](#3.5.3)\n",
    "### [3.5.4 Classification with decision trees](#3.5.4)\n",
    "### [3.5.5 Classification model summary](#3.5.5)\n",
    "\n",
    "## [3.6 Imputing values for full dataset](#3.6)"
   ]
  },
  {
   "cell_type": "markdown",
   "metadata": {},
   "source": [
    "## <a id='3.1'>3.1 Import packages</a>"
   ]
  },
  {
   "cell_type": "code",
   "execution_count": 1,
   "metadata": {},
   "outputs": [],
   "source": [
    "import pandas as pd\n",
    "import numpy as np\n",
    "\n",
    "import seaborn as sns\n",
    "import matplotlib.pyplot as plt\n",
    "%matplotlib inline\n",
    "\n",
    "from sklearn.preprocessing import StandardScaler\n",
    "from sklearn.model_selection import train_test_split, GridSearchCV\n",
    "from sklearn.feature_selection import RFECV, RFE, SelectKBest, f_regression\n",
    "from sklearn.linear_model import LinearRegression, RidgeCV, Ridge, LassoCV, Lasso, ElasticNetCV, ElasticNet\n",
    "from sklearn.metrics import accuracy_score, r2_score, confusion_matrix, classification_report, precision_score, recall_score, f1_score\n",
    "from sklearn.neighbors import KNeighborsClassifier\n",
    "from sklearn.svm import SVC\n",
    "from sklearn.tree import DecisionTreeClassifier\n",
    "from sklearn.ensemble import BaggingClassifier, RandomForestClassifier"
   ]
  },
  {
   "cell_type": "markdown",
   "metadata": {},
   "source": [
    "## <a id='3.2'>3.2 Load data</a>"
   ]
  },
  {
   "cell_type": "code",
   "execution_count": 2,
   "metadata": {},
   "outputs": [],
   "source": [
    "file = 'jobs_clean.csv'\n",
    "jobs = pd.read_csv(file, index_col=0)"
   ]
  },
  {
   "cell_type": "code",
   "execution_count": 3,
   "metadata": {},
   "outputs": [
    {
     "data": {
      "text/html": [
       "<div>\n",
       "<style scoped>\n",
       "    .dataframe tbody tr th:only-of-type {\n",
       "        vertical-align: middle;\n",
       "    }\n",
       "\n",
       "    .dataframe tbody tr th {\n",
       "        vertical-align: top;\n",
       "    }\n",
       "\n",
       "    .dataframe thead th {\n",
       "        text-align: right;\n",
       "    }\n",
       "</style>\n",
       "<table border=\"1\" class=\"dataframe\">\n",
       "  <thead>\n",
       "    <tr style=\"text-align: right;\">\n",
       "      <th></th>\n",
       "      <th>index</th>\n",
       "      <th>title</th>\n",
       "      <th>company</th>\n",
       "      <th>salary_low</th>\n",
       "      <th>salary_high</th>\n",
       "      <th>salary_mean</th>\n",
       "      <th>title_analyst</th>\n",
       "      <th>title_data</th>\n",
       "      <th>title_scientist</th>\n",
       "      <th>title_business</th>\n",
       "      <th>...</th>\n",
       "      <th>skill_python</th>\n",
       "      <th>skill_spark</th>\n",
       "      <th>skill_hadoop</th>\n",
       "      <th>skill_tableau</th>\n",
       "      <th>skill_r</th>\n",
       "      <th>skill_excel</th>\n",
       "      <th>skill_sas</th>\n",
       "      <th>skill_spss</th>\n",
       "      <th>skill_aws</th>\n",
       "      <th>skill_kafka</th>\n",
       "    </tr>\n",
       "  </thead>\n",
       "  <tbody>\n",
       "    <tr>\n",
       "      <th>0</th>\n",
       "      <td>0</td>\n",
       "      <td>Data Engineer</td>\n",
       "      <td>Telstra</td>\n",
       "      <td>NaN</td>\n",
       "      <td>NaN</td>\n",
       "      <td>NaN</td>\n",
       "      <td>0.000000</td>\n",
       "      <td>0.489781</td>\n",
       "      <td>0.000000</td>\n",
       "      <td>0.0</td>\n",
       "      <td>...</td>\n",
       "      <td>1</td>\n",
       "      <td>1</td>\n",
       "      <td>0</td>\n",
       "      <td>0</td>\n",
       "      <td>1</td>\n",
       "      <td>0</td>\n",
       "      <td>0</td>\n",
       "      <td>0</td>\n",
       "      <td>0</td>\n",
       "      <td>1</td>\n",
       "    </tr>\n",
       "    <tr>\n",
       "      <th>1</th>\n",
       "      <td>1</td>\n",
       "      <td>Junior Data Analyst/Scientist</td>\n",
       "      <td>International Institute of Data &amp; Analytics</td>\n",
       "      <td>NaN</td>\n",
       "      <td>NaN</td>\n",
       "      <td>NaN</td>\n",
       "      <td>0.268433</td>\n",
       "      <td>0.339808</td>\n",
       "      <td>0.475133</td>\n",
       "      <td>0.0</td>\n",
       "      <td>...</td>\n",
       "      <td>1</td>\n",
       "      <td>0</td>\n",
       "      <td>0</td>\n",
       "      <td>0</td>\n",
       "      <td>1</td>\n",
       "      <td>1</td>\n",
       "      <td>1</td>\n",
       "      <td>0</td>\n",
       "      <td>0</td>\n",
       "      <td>0</td>\n",
       "    </tr>\n",
       "  </tbody>\n",
       "</table>\n",
       "<p>2 rows × 5056 columns</p>\n",
       "</div>"
      ],
      "text/plain": [
       "   index                          title  \\\n",
       "0      0                  Data Engineer   \n",
       "1      1  Junior Data Analyst/Scientist   \n",
       "\n",
       "                                       company  salary_low  salary_high  \\\n",
       "0                                      Telstra         NaN          NaN   \n",
       "1  International Institute of Data & Analytics         NaN          NaN   \n",
       "\n",
       "   salary_mean  title_analyst  title_data  title_scientist  title_business  \\\n",
       "0          NaN       0.000000    0.489781         0.000000             0.0   \n",
       "1          NaN       0.268433    0.339808         0.475133             0.0   \n",
       "\n",
       "      ...       skill_python  skill_spark  skill_hadoop  skill_tableau  \\\n",
       "0     ...                  1            1             0              0   \n",
       "1     ...                  1            0             0              0   \n",
       "\n",
       "   skill_r  skill_excel  skill_sas  skill_spss  skill_aws  skill_kafka  \n",
       "0        1            0          0           0          0            1  \n",
       "1        1            1          1           0          0            0  \n",
       "\n",
       "[2 rows x 5056 columns]"
      ]
     },
     "execution_count": 3,
     "metadata": {},
     "output_type": "execute_result"
    }
   ],
   "source": [
    "jobs.head(2)"
   ]
  },
  {
   "cell_type": "markdown",
   "metadata": {},
   "source": [
    "## <a id='3.3'>3.3 Exploratory Data Analysis</a>"
   ]
  },
  {
   "cell_type": "markdown",
   "metadata": {},
   "source": [
    "### <a id='3.3.1'>3.3.1 Summary statistics</a>"
   ]
  },
  {
   "cell_type": "code",
   "execution_count": 4,
   "metadata": {
    "scrolled": true
   },
   "outputs": [
    {
     "data": {
      "text/html": [
       "<div>\n",
       "<style scoped>\n",
       "    .dataframe tbody tr th:only-of-type {\n",
       "        vertical-align: middle;\n",
       "    }\n",
       "\n",
       "    .dataframe tbody tr th {\n",
       "        vertical-align: top;\n",
       "    }\n",
       "\n",
       "    .dataframe thead th {\n",
       "        text-align: right;\n",
       "    }\n",
       "</style>\n",
       "<table border=\"1\" class=\"dataframe\">\n",
       "  <thead>\n",
       "    <tr style=\"text-align: right;\">\n",
       "      <th></th>\n",
       "      <th>index</th>\n",
       "      <th>salary_low</th>\n",
       "      <th>salary_high</th>\n",
       "      <th>salary_mean</th>\n",
       "      <th>title_analyst</th>\n",
       "      <th>title_data</th>\n",
       "      <th>title_scientist</th>\n",
       "      <th>title_business</th>\n",
       "      <th>title_senior</th>\n",
       "      <th>title_research</th>\n",
       "      <th>...</th>\n",
       "      <th>skill_python</th>\n",
       "      <th>skill_spark</th>\n",
       "      <th>skill_hadoop</th>\n",
       "      <th>skill_tableau</th>\n",
       "      <th>skill_r</th>\n",
       "      <th>skill_excel</th>\n",
       "      <th>skill_sas</th>\n",
       "      <th>skill_spss</th>\n",
       "      <th>skill_aws</th>\n",
       "      <th>skill_kafka</th>\n",
       "    </tr>\n",
       "  </thead>\n",
       "  <tbody>\n",
       "    <tr>\n",
       "      <th>count</th>\n",
       "      <td>745.000000</td>\n",
       "      <td>135.000000</td>\n",
       "      <td>135.000000</td>\n",
       "      <td>135.000000</td>\n",
       "      <td>745.000000</td>\n",
       "      <td>745.000000</td>\n",
       "      <td>745.000000</td>\n",
       "      <td>745.000000</td>\n",
       "      <td>745.000000</td>\n",
       "      <td>745.000000</td>\n",
       "      <td>...</td>\n",
       "      <td>745.000000</td>\n",
       "      <td>745.000000</td>\n",
       "      <td>745.000000</td>\n",
       "      <td>745.000000</td>\n",
       "      <td>745.0</td>\n",
       "      <td>745.000000</td>\n",
       "      <td>745.000000</td>\n",
       "      <td>745.000000</td>\n",
       "      <td>745.000000</td>\n",
       "      <td>745.000000</td>\n",
       "    </tr>\n",
       "    <tr>\n",
       "      <th>mean</th>\n",
       "      <td>604.127517</td>\n",
       "      <td>96706.703704</td>\n",
       "      <td>110150.696296</td>\n",
       "      <td>103428.700000</td>\n",
       "      <td>0.146133</td>\n",
       "      <td>0.142899</td>\n",
       "      <td>0.089737</td>\n",
       "      <td>0.052525</td>\n",
       "      <td>0.044792</td>\n",
       "      <td>0.034083</td>\n",
       "      <td>...</td>\n",
       "      <td>0.273826</td>\n",
       "      <td>0.080537</td>\n",
       "      <td>0.064430</td>\n",
       "      <td>0.096644</td>\n",
       "      <td>1.0</td>\n",
       "      <td>0.473826</td>\n",
       "      <td>0.193289</td>\n",
       "      <td>0.034899</td>\n",
       "      <td>0.053691</td>\n",
       "      <td>0.014765</td>\n",
       "    </tr>\n",
       "    <tr>\n",
       "      <th>std</th>\n",
       "      <td>376.799697</td>\n",
       "      <td>40459.034901</td>\n",
       "      <td>49004.828766</td>\n",
       "      <td>43405.974525</td>\n",
       "      <td>0.170123</td>\n",
       "      <td>0.223323</td>\n",
       "      <td>0.223825</td>\n",
       "      <td>0.170324</td>\n",
       "      <td>0.148749</td>\n",
       "      <td>0.129144</td>\n",
       "      <td>...</td>\n",
       "      <td>0.446220</td>\n",
       "      <td>0.272305</td>\n",
       "      <td>0.245681</td>\n",
       "      <td>0.295671</td>\n",
       "      <td>0.0</td>\n",
       "      <td>0.499650</td>\n",
       "      <td>0.395143</td>\n",
       "      <td>0.183648</td>\n",
       "      <td>0.225559</td>\n",
       "      <td>0.120692</td>\n",
       "    </tr>\n",
       "    <tr>\n",
       "      <th>min</th>\n",
       "      <td>0.000000</td>\n",
       "      <td>26000.000000</td>\n",
       "      <td>26000.000000</td>\n",
       "      <td>26000.000000</td>\n",
       "      <td>0.000000</td>\n",
       "      <td>0.000000</td>\n",
       "      <td>0.000000</td>\n",
       "      <td>0.000000</td>\n",
       "      <td>0.000000</td>\n",
       "      <td>0.000000</td>\n",
       "      <td>...</td>\n",
       "      <td>0.000000</td>\n",
       "      <td>0.000000</td>\n",
       "      <td>0.000000</td>\n",
       "      <td>0.000000</td>\n",
       "      <td>1.0</td>\n",
       "      <td>0.000000</td>\n",
       "      <td>0.000000</td>\n",
       "      <td>0.000000</td>\n",
       "      <td>0.000000</td>\n",
       "      <td>0.000000</td>\n",
       "    </tr>\n",
       "    <tr>\n",
       "      <th>25%</th>\n",
       "      <td>271.000000</td>\n",
       "      <td>70434.000000</td>\n",
       "      <td>80000.000000</td>\n",
       "      <td>75876.000000</td>\n",
       "      <td>0.000000</td>\n",
       "      <td>0.000000</td>\n",
       "      <td>0.000000</td>\n",
       "      <td>0.000000</td>\n",
       "      <td>0.000000</td>\n",
       "      <td>0.000000</td>\n",
       "      <td>...</td>\n",
       "      <td>0.000000</td>\n",
       "      <td>0.000000</td>\n",
       "      <td>0.000000</td>\n",
       "      <td>0.000000</td>\n",
       "      <td>1.0</td>\n",
       "      <td>0.000000</td>\n",
       "      <td>0.000000</td>\n",
       "      <td>0.000000</td>\n",
       "      <td>0.000000</td>\n",
       "      <td>0.000000</td>\n",
       "    </tr>\n",
       "    <tr>\n",
       "      <th>50%</th>\n",
       "      <td>548.000000</td>\n",
       "      <td>88713.000000</td>\n",
       "      <td>100000.000000</td>\n",
       "      <td>91807.500000</td>\n",
       "      <td>0.133345</td>\n",
       "      <td>0.000000</td>\n",
       "      <td>0.000000</td>\n",
       "      <td>0.000000</td>\n",
       "      <td>0.000000</td>\n",
       "      <td>0.000000</td>\n",
       "      <td>...</td>\n",
       "      <td>0.000000</td>\n",
       "      <td>0.000000</td>\n",
       "      <td>0.000000</td>\n",
       "      <td>0.000000</td>\n",
       "      <td>1.0</td>\n",
       "      <td>0.000000</td>\n",
       "      <td>0.000000</td>\n",
       "      <td>0.000000</td>\n",
       "      <td>0.000000</td>\n",
       "      <td>0.000000</td>\n",
       "    </tr>\n",
       "    <tr>\n",
       "      <th>75%</th>\n",
       "      <td>946.000000</td>\n",
       "      <td>116756.500000</td>\n",
       "      <td>130000.000000</td>\n",
       "      <td>125000.000000</td>\n",
       "      <td>0.224538</td>\n",
       "      <td>0.257444</td>\n",
       "      <td>0.000000</td>\n",
       "      <td>0.000000</td>\n",
       "      <td>0.000000</td>\n",
       "      <td>0.000000</td>\n",
       "      <td>...</td>\n",
       "      <td>1.000000</td>\n",
       "      <td>0.000000</td>\n",
       "      <td>0.000000</td>\n",
       "      <td>0.000000</td>\n",
       "      <td>1.0</td>\n",
       "      <td>1.000000</td>\n",
       "      <td>0.000000</td>\n",
       "      <td>0.000000</td>\n",
       "      <td>0.000000</td>\n",
       "      <td>0.000000</td>\n",
       "    </tr>\n",
       "    <tr>\n",
       "      <th>max</th>\n",
       "      <td>1255.000000</td>\n",
       "      <td>234000.000000</td>\n",
       "      <td>300000.000000</td>\n",
       "      <td>250000.000000</td>\n",
       "      <td>1.000000</td>\n",
       "      <td>0.784700</td>\n",
       "      <td>1.000000</td>\n",
       "      <td>0.901558</td>\n",
       "      <td>0.902902</td>\n",
       "      <td>0.914038</td>\n",
       "      <td>...</td>\n",
       "      <td>1.000000</td>\n",
       "      <td>1.000000</td>\n",
       "      <td>1.000000</td>\n",
       "      <td>1.000000</td>\n",
       "      <td>1.0</td>\n",
       "      <td>1.000000</td>\n",
       "      <td>1.000000</td>\n",
       "      <td>1.000000</td>\n",
       "      <td>1.000000</td>\n",
       "      <td>1.000000</td>\n",
       "    </tr>\n",
       "  </tbody>\n",
       "</table>\n",
       "<p>8 rows × 5054 columns</p>\n",
       "</div>"
      ],
      "text/plain": [
       "             index     salary_low    salary_high    salary_mean  \\\n",
       "count   745.000000     135.000000     135.000000     135.000000   \n",
       "mean    604.127517   96706.703704  110150.696296  103428.700000   \n",
       "std     376.799697   40459.034901   49004.828766   43405.974525   \n",
       "min       0.000000   26000.000000   26000.000000   26000.000000   \n",
       "25%     271.000000   70434.000000   80000.000000   75876.000000   \n",
       "50%     548.000000   88713.000000  100000.000000   91807.500000   \n",
       "75%     946.000000  116756.500000  130000.000000  125000.000000   \n",
       "max    1255.000000  234000.000000  300000.000000  250000.000000   \n",
       "\n",
       "       title_analyst  title_data  title_scientist  title_business  \\\n",
       "count     745.000000  745.000000       745.000000      745.000000   \n",
       "mean        0.146133    0.142899         0.089737        0.052525   \n",
       "std         0.170123    0.223323         0.223825        0.170324   \n",
       "min         0.000000    0.000000         0.000000        0.000000   \n",
       "25%         0.000000    0.000000         0.000000        0.000000   \n",
       "50%         0.133345    0.000000         0.000000        0.000000   \n",
       "75%         0.224538    0.257444         0.000000        0.000000   \n",
       "max         1.000000    0.784700         1.000000        0.901558   \n",
       "\n",
       "       title_senior  title_research     ...       skill_python  skill_spark  \\\n",
       "count    745.000000      745.000000     ...         745.000000   745.000000   \n",
       "mean       0.044792        0.034083     ...           0.273826     0.080537   \n",
       "std        0.148749        0.129144     ...           0.446220     0.272305   \n",
       "min        0.000000        0.000000     ...           0.000000     0.000000   \n",
       "25%        0.000000        0.000000     ...           0.000000     0.000000   \n",
       "50%        0.000000        0.000000     ...           0.000000     0.000000   \n",
       "75%        0.000000        0.000000     ...           1.000000     0.000000   \n",
       "max        0.902902        0.914038     ...           1.000000     1.000000   \n",
       "\n",
       "       skill_hadoop  skill_tableau  skill_r  skill_excel   skill_sas  \\\n",
       "count    745.000000     745.000000    745.0   745.000000  745.000000   \n",
       "mean       0.064430       0.096644      1.0     0.473826    0.193289   \n",
       "std        0.245681       0.295671      0.0     0.499650    0.395143   \n",
       "min        0.000000       0.000000      1.0     0.000000    0.000000   \n",
       "25%        0.000000       0.000000      1.0     0.000000    0.000000   \n",
       "50%        0.000000       0.000000      1.0     0.000000    0.000000   \n",
       "75%        0.000000       0.000000      1.0     1.000000    0.000000   \n",
       "max        1.000000       1.000000      1.0     1.000000    1.000000   \n",
       "\n",
       "       skill_spss   skill_aws  skill_kafka  \n",
       "count  745.000000  745.000000   745.000000  \n",
       "mean     0.034899    0.053691     0.014765  \n",
       "std      0.183648    0.225559     0.120692  \n",
       "min      0.000000    0.000000     0.000000  \n",
       "25%      0.000000    0.000000     0.000000  \n",
       "50%      0.000000    0.000000     0.000000  \n",
       "75%      0.000000    0.000000     0.000000  \n",
       "max      1.000000    1.000000     1.000000  \n",
       "\n",
       "[8 rows x 5054 columns]"
      ]
     },
     "execution_count": 4,
     "metadata": {},
     "output_type": "execute_result"
    }
   ],
   "source": [
    "#Let's begin by looking at the summary statistics\n",
    "jobs.describe()"
   ]
  },
  {
   "cell_type": "markdown",
   "metadata": {},
   "source": [
    "The summary statistics tell us a few things, particularly about salary information. Firstly, that only a minority of our data actually has salary information (135 records out of 745 total). This may be a limitation for our modelling and predictions.\n",
    "\n",
    "However, of the jobs that do list their salary information, a few descriptive statistics of note are apparent. Firstly, the average offered salary range for data science/analytics jobs in Australia is 96707 - 110151, with the average mean salary being 103429. Salary varies over a large range though, with the lowest paid jobs paying only 26000, while the highest amount potentially on offer is 300000."
   ]
  },
  {
   "cell_type": "markdown",
   "metadata": {},
   "source": [
    "### <a id='3.3.2'>3.3.2 Target variable distributions</a>"
   ]
  },
  {
   "cell_type": "code",
   "execution_count": 5,
   "metadata": {},
   "outputs": [
    {
     "data": {
      "text/plain": [
       "(135, 5056)"
      ]
     },
     "execution_count": 5,
     "metadata": {},
     "output_type": "execute_result"
    }
   ],
   "source": [
    "#Before we can look at distributions for the salary data, we need to limit our rows only to those which have values for salary\n",
    "jobs_subset = jobs[jobs.salary_low.isnull() == False]\n",
    "jobs_subset.shape"
   ]
  },
  {
   "cell_type": "code",
   "execution_count": 6,
   "metadata": {},
   "outputs": [],
   "source": [
    "#How are the salary variables distributed?\n",
    "def distribution(values, xlabel, title):\n",
    "    fig = plt.figure(figsize=(6,4))\n",
    "    sns.distplot(values, bins = 20,kde=False)\n",
    "    plt.axvline(x=np.mean(values), linestyle='dashed', color='black', alpha=0.8)\n",
    "    plt.axvline(x=np.median(values), linestyle='dashed', color = 'r', alpha=0.8)\n",
    "    plt.ylabel('frequency')\n",
    "    plt.xlabel(xlabel)\n",
    "    plt.title(title)"
   ]
  },
  {
   "cell_type": "code",
   "execution_count": 7,
   "metadata": {},
   "outputs": [
    {
     "name": "stderr",
     "output_type": "stream",
     "text": [
      "C:\\Users\\Chris\\Anaconda3\\lib\\site-packages\\matplotlib\\axes\\_axes.py:6462: UserWarning: The 'normed' kwarg is deprecated, and has been replaced by the 'density' kwarg.\n",
      "  warnings.warn(\"The 'normed' kwarg is deprecated, and has been \"\n"
     ]
    },
    {
     "data": {
      "image/png": "[encoded data removed]",
      "text/plain": [
       "<Figure size 432x288 with 1 Axes>"
      ]
     },
     "metadata": {},
     "output_type": "display_data"
    }
   ],
   "source": [
    "distribution(jobs_subset['salary_low'], 'minimum salary', 'distribution of minimum salary')"
   ]
  },
  {
   "cell_type": "code",
   "execution_count": 8,
   "metadata": {},
   "outputs": [
    {
     "name": "stderr",
     "output_type": "stream",
     "text": [
      "C:\\Users\\Chris\\Anaconda3\\lib\\site-packages\\matplotlib\\axes\\_axes.py:6462: UserWarning: The 'normed' kwarg is deprecated, and has been replaced by the 'density' kwarg.\n",
      "  warnings.warn(\"The 'normed' kwarg is deprecated, and has been \"\n"
     ]
    },
    {
     "data": {
      "image/png": "[encoded data removed]",
      "text/plain": [
       "<Figure size 432x288 with 1 Axes>"
      ]
     },
     "metadata": {},
     "output_type": "display_data"
    }
   ],
   "source": [
    "distribution(jobs_subset['salary_high'], 'maximum salary', 'distribution of maximum salary')"
   ]
  },
  {
   "cell_type": "code",
   "execution_count": 9,
   "metadata": {
    "scrolled": true
   },
   "outputs": [
    {
     "name": "stderr",
     "output_type": "stream",
     "text": [
      "C:\\Users\\Chris\\Anaconda3\\lib\\site-packages\\matplotlib\\axes\\_axes.py:6462: UserWarning: The 'normed' kwarg is deprecated, and has been replaced by the 'density' kwarg.\n",
      "  warnings.warn(\"The 'normed' kwarg is deprecated, and has been \"\n"
     ]
    },
    {
     "data": {
      "image/png": "[encoded data removed]",
      "text/plain": [
       "<Figure size 432x288 with 1 Axes>"
      ]
     },
     "metadata": {},
     "output_type": "display_data"
    }
   ],
   "source": [
    "distribution(jobs_subset['salary_mean'], 'mean salary', 'distribution of mean salary')"
   ]
  },
  {
   "cell_type": "markdown",
   "metadata": {},
   "source": [
    "Minimum, maximum and mean salary are all somewhat positively skewed. While most of the jobs listed are around the approximately 100k average, there are a few that are considerably lower and several that are much higher. The distribution of salaries is also discontinuous, with some gaps where there are no jobs listed in that area. I will attempt linear regression to predict this variable but I may have more success if I bin the salary variable into categories and attempt to classify jobs into these categories.\n",
    "\n",
    "Let's look at some boxplots to get a closer look at these outliers."
   ]
  },
  {
   "cell_type": "code",
   "execution_count": 10,
   "metadata": {},
   "outputs": [
    {
     "data": {
      "text/plain": [
       "Text(0,0.5,'annual salary (AUD)')"
      ]
     },
     "execution_count": 10,
     "metadata": {},
     "output_type": "execute_result"
    },
    {
     "data": {
      "image/png": "[encoded data removed]",
      "text/plain": [
       "<Figure size 432x432 with 1 Axes>"
      ]
     },
     "metadata": {},
     "output_type": "display_data"
    }
   ],
   "source": [
    "fig = plt.figure(figsize=(6,6))\n",
    "sns.boxplot(data=jobs_subset[['salary_low','salary_high','salary_mean']],orient='v', linewidth=3)\n",
    "plt.ylabel('annual salary (AUD)')"
   ]
  },
  {
   "cell_type": "markdown",
   "metadata": {},
   "source": [
    "The upper range of salaries has more extreme outliers than the other two variables, which makes sense. It's possible that higher-paid jobs have a wider pay range over which they are willing to negotiate. For this reason, I will stick with mean salary as my target variable."
   ]
  },
  {
   "cell_type": "markdown",
   "metadata": {},
   "source": [
    "### <a id='3.3.3'>3.3.3 Correlations</a>"
   ]
  },
  {
   "cell_type": "code",
   "execution_count": 11,
   "metadata": {},
   "outputs": [
    {
     "data": {
      "text/plain": [
       "<matplotlib.axes._subplots.AxesSubplot at 0x21c543909e8>"
      ]
     },
     "execution_count": 11,
     "metadata": {},
     "output_type": "execute_result"
    },
    {
     "data": {
      "image/png": "[encoded data removed]",
      "text/plain": [
       "<Figure size 1440x1080 with 2 Axes>"
      ]
     },
     "metadata": {},
     "output_type": "display_data"
    }
   ],
   "source": [
    "fig = plt.figure(figsize=(20,15))\n",
    "#Calculate a correlation matrix for the numerical variables\n",
    "correlations = jobs_subset.iloc[:,3:100].corr()\n",
    "# Generate a mask for the upper triangle\n",
    "mask = np.zeros_like(correlations, dtype=np.bool)\n",
    "mask[np.triu_indices_from(mask)] = True\n",
    "#Make the heatmap\n",
    "sns.heatmap(correlations, mask = mask, vmin=-1, linewidths=.5, vmax=1, cmap='seismic',cbar_kws={\"shrink\": .5})"
   ]
  },
  {
   "cell_type": "markdown",
   "metadata": {},
   "source": [
    "Firstly, the states negatively correlate with one another, which is to be expected given that a job is listed in one state only and so these values are mutually exclusive. There's not much we can do about this.\n",
    "\n",
    "The salary variables are all strongly collinear, this is also to be expected and will not be an issue as I'll only be using the salary_mean column as a target variable.\n",
    "\n",
    "A few other terms show collinearity that might be worth dealing with. Keywords 'machine' and 'learn' are highly correlated, suggesting that they're usually used in the phrase 'machine learning'. In this instance it might be a good idea to drop the 'machine' keyword variable, as this doesn't capture as much information as 'learn' which has a few other potential connotations in a data job listing. 'Environmental' in the job title also seems to correlate quite strongly with 'environment' in the summary, unsurprisingly. I will drop the kw_environment column here. These seem to be the most extreme instances of collinearity, and should be alleviated by dropping the columns 'title_machine', 'kw_machin' and 'kw_environment'."
   ]
  },
  {
   "cell_type": "markdown",
   "metadata": {},
   "source": [
    "## <a id='3.4'>3.4 Question 1: Modelling factors that predict mean salary</a>"
   ]
  },
  {
   "cell_type": "markdown",
   "metadata": {},
   "source": [
    "What keywords in the job title and job summary predict salary? Does the location affect salary? I will first attempt to construct a linear model to predict mean salary from these variables."
   ]
  },
  {
   "cell_type": "markdown",
   "metadata": {},
   "source": [
    "### <a id='3.4.1'>3.4.1 Define predictor matrix and target variable</a>"
   ]
  },
  {
   "cell_type": "code",
   "execution_count": 12,
   "metadata": {},
   "outputs": [],
   "source": [
    "#We'll start by defining a predictor matrix\n",
    "X = jobs_subset.iloc[:,7:]\n",
    "#Dropping the columns we found above to be collinear\n",
    "dropcols = ['title_machine','kw_machin','kw_environment']\n",
    "X.drop(dropcols,axis=1,inplace=True)"
   ]
  },
  {
   "cell_type": "code",
   "execution_count": 13,
   "metadata": {},
   "outputs": [],
   "source": [
    "#And the target variable\n",
    "y = jobs_subset['salary_mean']"
   ]
  },
  {
   "cell_type": "code",
   "execution_count": 14,
   "metadata": {},
   "outputs": [],
   "source": [
    "#Now do a train-test split, leaving 1/3rd of the data in the test set\n",
    "X_train, X_test, y_train, y_test = train_test_split(X, y, test_size=0.5, random_state=11)"
   ]
  },
  {
   "cell_type": "code",
   "execution_count": 15,
   "metadata": {},
   "outputs": [],
   "source": [
    "#Standardize the predictors\n",
    "ss = StandardScaler()\n",
    "Xs_train = ss.fit_transform(X_train)\n",
    "Xs_test = ss.transform(X_test)"
   ]
  },
  {
   "cell_type": "markdown",
   "metadata": {},
   "source": [
    "### <a id='3.4.2'>3.4.2 Straightforward linear regression modelling</a>"
   ]
  },
  {
   "cell_type": "markdown",
   "metadata": {},
   "source": [
    "Prior to any feature selection or regularization, how does a linear model perform on this data?"
   ]
  },
  {
   "cell_type": "code",
   "execution_count": 16,
   "metadata": {},
   "outputs": [
    {
     "data": {
      "text/plain": [
       "LinearRegression(copy_X=True, fit_intercept=True, n_jobs=1, normalize=False)"
      ]
     },
     "execution_count": 16,
     "metadata": {},
     "output_type": "execute_result"
    }
   ],
   "source": [
    "#Fit the training data to a linear regression\n",
    "lr = LinearRegression()\n",
    "lr.fit(Xs_train, y_train)"
   ]
  },
  {
   "cell_type": "code",
   "execution_count": 17,
   "metadata": {},
   "outputs": [],
   "source": [
    "#Define a function to get the r2 score for a given model and dataset\n",
    "def get_r2(model,X,y):\n",
    "    predictions = model.predict(X)\n",
    "    r2 = r2_score(y, predictions)\n",
    "    return r2"
   ]
  },
  {
   "cell_type": "code",
   "execution_count": 18,
   "metadata": {},
   "outputs": [
    {
     "data": {
      "text/plain": [
       "1.0"
      ]
     },
     "execution_count": 18,
     "metadata": {},
     "output_type": "execute_result"
    }
   ],
   "source": [
    "#How good is the fit on the training data?\n",
    "get_r2(lr, Xs_train, y_train)"
   ]
  },
  {
   "cell_type": "code",
   "execution_count": 19,
   "metadata": {
    "scrolled": true
   },
   "outputs": [
    {
     "data": {
      "text/plain": [
       "0.39235603684577847"
      ]
     },
     "execution_count": 19,
     "metadata": {},
     "output_type": "execute_result"
    }
   ],
   "source": [
    "#Evaluate the model on test data\n",
    "get_r2(lr, Xs_test, y_test)"
   ]
  },
  {
   "cell_type": "markdown",
   "metadata": {},
   "source": [
    "Just going ahead and fitting these values to a linear regression model yielded a decent $r^2$ for the training data, but a much lower one fo the test data, suggesting the model is overfitting to the training data. Variance-reduction methods such as feature elimination or regularization may help with this issue."
   ]
  },
  {
   "cell_type": "markdown",
   "metadata": {},
   "source": [
    "### <a id='3.4.3'>3.4.3 Linear regression with regularization</a>"
   ]
  },
  {
   "cell_type": "code",
   "execution_count": 20,
   "metadata": {},
   "outputs": [
    {
     "data": {
      "text/plain": [
       "870.3591361485165"
      ]
     },
     "execution_count": 20,
     "metadata": {},
     "output_type": "execute_result"
    }
   ],
   "source": [
    "#Starting with ridge regularization, find the optimal alpha value using CV\n",
    "ridge = RidgeCV(alphas=np.logspace(0,5,200),cv=10)\n",
    "ridge.fit(Xs_train,y_train)\n",
    "bestalpha = ridge.alpha_\n",
    "bestalpha"
   ]
  },
  {
   "cell_type": "code",
   "execution_count": 21,
   "metadata": {},
   "outputs": [
    {
     "data": {
      "text/plain": [
       "Ridge(alpha=870.3591361485165, copy_X=True, fit_intercept=True, max_iter=None,\n",
       "   normalize=False, random_state=None, solver='auto', tol=0.001)"
      ]
     },
     "execution_count": 21,
     "metadata": {},
     "output_type": "execute_result"
    }
   ],
   "source": [
    "optimalridge = Ridge(alpha = bestalpha)\n",
    "optimalridge.fit(Xs_train,y_train)"
   ]
  },
  {
   "cell_type": "code",
   "execution_count": 22,
   "metadata": {},
   "outputs": [
    {
     "data": {
      "text/plain": [
       "0.9216322114007929"
      ]
     },
     "execution_count": 22,
     "metadata": {},
     "output_type": "execute_result"
    }
   ],
   "source": [
    "#Training r2\n",
    "get_r2(optimalridge, Xs_train, y_train)"
   ]
  },
  {
   "cell_type": "code",
   "execution_count": 23,
   "metadata": {},
   "outputs": [
    {
     "data": {
      "text/plain": [
       "0.3679862946020439"
      ]
     },
     "execution_count": 23,
     "metadata": {},
     "output_type": "execute_result"
    }
   ],
   "source": [
    "#Testing r2\n",
    "get_r2(optimalridge, Xs_test, y_test)"
   ]
  },
  {
   "cell_type": "markdown",
   "metadata": {},
   "source": [
    "Ridge regression does not improve the model significantly."
   ]
  },
  {
   "cell_type": "code",
   "execution_count": 24,
   "metadata": {},
   "outputs": [
    {
     "data": {
      "text/plain": [
       "4659.525668664682"
      ]
     },
     "execution_count": 24,
     "metadata": {},
     "output_type": "execute_result"
    }
   ],
   "source": [
    "#Lasso regularization\n",
    "lasso = LassoCV(alphas=np.logspace(0,5,200), cv=10)\n",
    "lasso.fit(Xs_train, y_train)\n",
    "bestalpha=lasso.alpha_\n",
    "bestalpha"
   ]
  },
  {
   "cell_type": "code",
   "execution_count": 25,
   "metadata": {},
   "outputs": [
    {
     "data": {
      "text/plain": [
       "Lasso(alpha=4659.525668664682, copy_X=True, fit_intercept=True, max_iter=1000,\n",
       "   normalize=False, positive=False, precompute=False, random_state=None,\n",
       "   selection='cyclic', tol=0.0001, warm_start=False)"
      ]
     },
     "execution_count": 25,
     "metadata": {},
     "output_type": "execute_result"
    }
   ],
   "source": [
    "optimallasso = Lasso(alpha = bestalpha)\n",
    "optimallasso.fit(Xs_train, y_train)"
   ]
  },
  {
   "cell_type": "code",
   "execution_count": 26,
   "metadata": {},
   "outputs": [
    {
     "data": {
      "text/plain": [
       "0.8117793540494999"
      ]
     },
     "execution_count": 26,
     "metadata": {},
     "output_type": "execute_result"
    }
   ],
   "source": [
    "#Training r2\n",
    "get_r2(optimallasso, Xs_train, y_train)"
   ]
  },
  {
   "cell_type": "code",
   "execution_count": 27,
   "metadata": {},
   "outputs": [
    {
     "data": {
      "text/plain": [
       "0.09661941071828406"
      ]
     },
     "execution_count": 27,
     "metadata": {},
     "output_type": "execute_result"
    }
   ],
   "source": [
    "#Testing r2\n",
    "get_r2(optimallasso, Xs_test, y_test)"
   ]
  },
  {
   "cell_type": "markdown",
   "metadata": {},
   "source": [
    "Lasso regression is not doing well either. Perhaps other approaches to feature elimination are needed."
   ]
  },
  {
   "cell_type": "markdown",
   "metadata": {},
   "source": [
    "### <a id='3.4.4'>3.4.4 Feature selection with Select K-best and Recursive feature elimination</a>"
   ]
  },
  {
   "cell_type": "code",
   "execution_count": 28,
   "metadata": {},
   "outputs": [
    {
     "name": "stderr",
     "output_type": "stream",
     "text": [
      "C:\\Users\\Chris\\Anaconda3\\lib\\site-packages\\sklearn\\feature_selection\\univariate_selection.py:298: RuntimeWarning: invalid value encountered in true_divide\n",
      "  corr /= X_norms\n",
      "C:\\Users\\Chris\\Anaconda3\\lib\\site-packages\\scipy\\stats\\_distn_infrastructure.py:879: RuntimeWarning: invalid value encountered in greater\n",
      "  return (self.a < x) & (x < self.b)\n",
      "C:\\Users\\Chris\\Anaconda3\\lib\\site-packages\\scipy\\stats\\_distn_infrastructure.py:879: RuntimeWarning: invalid value encountered in less\n",
      "  return (self.a < x) & (x < self.b)\n",
      "C:\\Users\\Chris\\Anaconda3\\lib\\site-packages\\scipy\\stats\\_distn_infrastructure.py:1821: RuntimeWarning: invalid value encountered in less_equal\n",
      "  cond2 = cond0 & (x <= self.a)\n"
     ]
    },
    {
     "data": {
      "text/plain": [
       "SelectKBest(k=10, score_func=<function f_regression at 0x0000021C512F26A8>)"
      ]
     },
     "execution_count": 28,
     "metadata": {},
     "output_type": "execute_result"
    }
   ],
   "source": [
    "#Start with select k-best\n",
    "select_f = SelectKBest(f_regression, k=10)\n",
    "select_f.fit(Xs_train, y_train)\n"
   ]
  },
  {
   "cell_type": "code",
   "execution_count": 29,
   "metadata": {},
   "outputs": [],
   "source": [
    "kbest = pd.DataFrame({'feature':list(X_train.columns), 'f_regression score':list(select_f.scores_)})"
   ]
  },
  {
   "cell_type": "code",
   "execution_count": 30,
   "metadata": {},
   "outputs": [
    {
     "data": {
      "text/html": [
       "<div>\n",
       "<style scoped>\n",
       "    .dataframe tbody tr th:only-of-type {\n",
       "        vertical-align: middle;\n",
       "    }\n",
       "\n",
       "    .dataframe tbody tr th {\n",
       "        vertical-align: top;\n",
       "    }\n",
       "\n",
       "    .dataframe thead th {\n",
       "        text-align: right;\n",
       "    }\n",
       "</style>\n",
       "<table border=\"1\" class=\"dataframe\">\n",
       "  <thead>\n",
       "    <tr style=\"text-align: right;\">\n",
       "      <th></th>\n",
       "      <th>feature</th>\n",
       "      <th>f_regression score</th>\n",
       "    </tr>\n",
       "  </thead>\n",
       "  <tbody>\n",
       "    <tr>\n",
       "      <th>433</th>\n",
       "      <td>kw_idea</td>\n",
       "      <td>17.828580</td>\n",
       "    </tr>\n",
       "    <tr>\n",
       "      <th>585</th>\n",
       "      <td>kw_organ</td>\n",
       "      <td>16.881488</td>\n",
       "    </tr>\n",
       "    <tr>\n",
       "      <th>3386</th>\n",
       "      <td>kw_equ</td>\n",
       "      <td>16.881488</td>\n",
       "    </tr>\n",
       "    <tr>\n",
       "      <th>1376</th>\n",
       "      <td>kw_indepth</td>\n",
       "      <td>16.881488</td>\n",
       "    </tr>\n",
       "    <tr>\n",
       "      <th>3369</th>\n",
       "      <td>kw_cap</td>\n",
       "      <td>16.881488</td>\n",
       "    </tr>\n",
       "    <tr>\n",
       "      <th>1173</th>\n",
       "      <td>kw_transit</td>\n",
       "      <td>16.881488</td>\n",
       "    </tr>\n",
       "    <tr>\n",
       "      <th>599</th>\n",
       "      <td>kw_major</td>\n",
       "      <td>16.881488</td>\n",
       "    </tr>\n",
       "    <tr>\n",
       "      <th>1453</th>\n",
       "      <td>kw_entrepreneuri</td>\n",
       "      <td>16.881488</td>\n",
       "    </tr>\n",
       "    <tr>\n",
       "      <th>4975</th>\n",
       "      <td>kw_activitiesyour</td>\n",
       "      <td>16.881488</td>\n",
       "    </tr>\n",
       "    <tr>\n",
       "      <th>4069</th>\n",
       "      <td>kw_demanding</td>\n",
       "      <td>16.881488</td>\n",
       "    </tr>\n",
       "    <tr>\n",
       "      <th>1143</th>\n",
       "      <td>kw_businesses</td>\n",
       "      <td>16.881488</td>\n",
       "    </tr>\n",
       "    <tr>\n",
       "      <th>4501</th>\n",
       "      <td>kw_smal</td>\n",
       "      <td>16.881488</td>\n",
       "    </tr>\n",
       "    <tr>\n",
       "      <th>4624</th>\n",
       "      <td>kw_themat</td>\n",
       "      <td>16.881488</td>\n",
       "    </tr>\n",
       "    <tr>\n",
       "      <th>1862</th>\n",
       "      <td>kw_multitask</td>\n",
       "      <td>16.881488</td>\n",
       "    </tr>\n",
       "    <tr>\n",
       "      <th>241</th>\n",
       "      <td>kw_bank</td>\n",
       "      <td>16.789634</td>\n",
       "    </tr>\n",
       "    <tr>\n",
       "      <th>2437</th>\n",
       "      <td>kw_9249</td>\n",
       "      <td>15.851859</td>\n",
       "    </tr>\n",
       "    <tr>\n",
       "      <th>808</th>\n",
       "      <td>kw_ecommerc</td>\n",
       "      <td>14.119395</td>\n",
       "    </tr>\n",
       "    <tr>\n",
       "      <th>326</th>\n",
       "      <td>kw_write</td>\n",
       "      <td>13.696236</td>\n",
       "    </tr>\n",
       "    <tr>\n",
       "      <th>346</th>\n",
       "      <td>kw_prefer</td>\n",
       "      <td>13.300196</td>\n",
       "    </tr>\n",
       "    <tr>\n",
       "      <th>3357</th>\n",
       "      <td>kw_8041</td>\n",
       "      <td>12.795250</td>\n",
       "    </tr>\n",
       "    <tr>\n",
       "      <th>2349</th>\n",
       "      <td>kw_multitud</td>\n",
       "      <td>12.795250</td>\n",
       "    </tr>\n",
       "    <tr>\n",
       "      <th>3354</th>\n",
       "      <td>kw_rebecca</td>\n",
       "      <td>12.795250</td>\n",
       "    </tr>\n",
       "    <tr>\n",
       "      <th>2987</th>\n",
       "      <td>kw_opensourc</td>\n",
       "      <td>12.795250</td>\n",
       "    </tr>\n",
       "    <tr>\n",
       "      <th>1258</th>\n",
       "      <td>kw_text</td>\n",
       "      <td>12.795250</td>\n",
       "    </tr>\n",
       "    <tr>\n",
       "      <th>2374</th>\n",
       "      <td>kw_clustering</td>\n",
       "      <td>12.795250</td>\n",
       "    </tr>\n",
       "    <tr>\n",
       "      <th>2345</th>\n",
       "      <td>kw_forest</td>\n",
       "      <td>12.795250</td>\n",
       "    </tr>\n",
       "    <tr>\n",
       "      <th>2171</th>\n",
       "      <td>kw_900</td>\n",
       "      <td>12.795250</td>\n",
       "    </tr>\n",
       "    <tr>\n",
       "      <th>1194</th>\n",
       "      <td>kw_explain</td>\n",
       "      <td>12.795250</td>\n",
       "    </tr>\n",
       "    <tr>\n",
       "      <th>3353</th>\n",
       "      <td>kw_usage</td>\n",
       "      <td>12.795250</td>\n",
       "    </tr>\n",
       "    <tr>\n",
       "      <th>3356</th>\n",
       "      <td>kw_drawbacks</td>\n",
       "      <td>12.795250</td>\n",
       "    </tr>\n",
       "    <tr>\n",
       "      <th>2964</th>\n",
       "      <td>kw_ward</td>\n",
       "      <td>12.795250</td>\n",
       "    </tr>\n",
       "    <tr>\n",
       "      <th>1107</th>\n",
       "      <td>kw_pay</td>\n",
       "      <td>12.795250</td>\n",
       "    </tr>\n",
       "    <tr>\n",
       "      <th>3355</th>\n",
       "      <td>kw_opportunist</td>\n",
       "      <td>12.795250</td>\n",
       "    </tr>\n",
       "    <tr>\n",
       "      <th>3359</th>\n",
       "      <td>kw_advantages</td>\n",
       "      <td>12.795250</td>\n",
       "    </tr>\n",
       "    <tr>\n",
       "      <th>3358</th>\n",
       "      <td>kw_cosmetics</td>\n",
       "      <td>12.795250</td>\n",
       "    </tr>\n",
       "    <tr>\n",
       "      <th>1436</th>\n",
       "      <td>kw_random</td>\n",
       "      <td>12.795250</td>\n",
       "    </tr>\n",
       "    <tr>\n",
       "      <th>1113</th>\n",
       "      <td>kw_tight</td>\n",
       "      <td>12.391526</td>\n",
       "    </tr>\n",
       "    <tr>\n",
       "      <th>1451</th>\n",
       "      <td>kw_statement</td>\n",
       "      <td>12.155518</td>\n",
       "    </tr>\n",
       "    <tr>\n",
       "      <th>1196</th>\n",
       "      <td>kw_analytical</td>\n",
       "      <td>12.155518</td>\n",
       "    </tr>\n",
       "    <tr>\n",
       "      <th>64</th>\n",
       "      <td>kw_lead</td>\n",
       "      <td>11.735699</td>\n",
       "    </tr>\n",
       "    <tr>\n",
       "      <th>1380</th>\n",
       "      <td>kw_domains</td>\n",
       "      <td>11.725661</td>\n",
       "    </tr>\n",
       "    <tr>\n",
       "      <th>298</th>\n",
       "      <td>kw_retail</td>\n",
       "      <td>11.286372</td>\n",
       "    </tr>\n",
       "    <tr>\n",
       "      <th>2145</th>\n",
       "      <td>kw_communicator</td>\n",
       "      <td>11.122982</td>\n",
       "    </tr>\n",
       "    <tr>\n",
       "      <th>2870</th>\n",
       "      <td>kw_layer</td>\n",
       "      <td>10.452134</td>\n",
       "    </tr>\n",
       "    <tr>\n",
       "      <th>456</th>\n",
       "      <td>kw_teams</td>\n",
       "      <td>10.373273</td>\n",
       "    </tr>\n",
       "    <tr>\n",
       "      <th>1339</th>\n",
       "      <td>kw_entir</td>\n",
       "      <td>10.304436</td>\n",
       "    </tr>\n",
       "    <tr>\n",
       "      <th>1722</th>\n",
       "      <td>kw_resume</td>\n",
       "      <td>10.042393</td>\n",
       "    </tr>\n",
       "    <tr>\n",
       "      <th>467</th>\n",
       "      <td>kw_problems</td>\n",
       "      <td>9.940675</td>\n",
       "    </tr>\n",
       "    <tr>\n",
       "      <th>2353</th>\n",
       "      <td>kw_tree</td>\n",
       "      <td>9.866395</td>\n",
       "    </tr>\n",
       "    <tr>\n",
       "      <th>540</th>\n",
       "      <td>kw_today</td>\n",
       "      <td>9.768034</td>\n",
       "    </tr>\n",
       "  </tbody>\n",
       "</table>\n",
       "</div>"
      ],
      "text/plain": [
       "                feature  f_regression score\n",
       "433             kw_idea           17.828580\n",
       "585            kw_organ           16.881488\n",
       "3386             kw_equ           16.881488\n",
       "1376         kw_indepth           16.881488\n",
       "3369             kw_cap           16.881488\n",
       "1173         kw_transit           16.881488\n",
       "599            kw_major           16.881488\n",
       "1453   kw_entrepreneuri           16.881488\n",
       "4975  kw_activitiesyour           16.881488\n",
       "4069       kw_demanding           16.881488\n",
       "1143      kw_businesses           16.881488\n",
       "4501            kw_smal           16.881488\n",
       "4624          kw_themat           16.881488\n",
       "1862       kw_multitask           16.881488\n",
       "241             kw_bank           16.789634\n",
       "2437            kw_9249           15.851859\n",
       "808         kw_ecommerc           14.119395\n",
       "326            kw_write           13.696236\n",
       "346           kw_prefer           13.300196\n",
       "3357            kw_8041           12.795250\n",
       "2349        kw_multitud           12.795250\n",
       "3354         kw_rebecca           12.795250\n",
       "2987       kw_opensourc           12.795250\n",
       "1258            kw_text           12.795250\n",
       "2374      kw_clustering           12.795250\n",
       "2345          kw_forest           12.795250\n",
       "2171             kw_900           12.795250\n",
       "1194         kw_explain           12.795250\n",
       "3353           kw_usage           12.795250\n",
       "3356       kw_drawbacks           12.795250\n",
       "2964            kw_ward           12.795250\n",
       "1107             kw_pay           12.795250\n",
       "3355     kw_opportunist           12.795250\n",
       "3359      kw_advantages           12.795250\n",
       "3358       kw_cosmetics           12.795250\n",
       "1436          kw_random           12.795250\n",
       "1113           kw_tight           12.391526\n",
       "1451       kw_statement           12.155518\n",
       "1196      kw_analytical           12.155518\n",
       "64              kw_lead           11.735699\n",
       "1380         kw_domains           11.725661\n",
       "298           kw_retail           11.286372\n",
       "2145    kw_communicator           11.122982\n",
       "2870           kw_layer           10.452134\n",
       "456            kw_teams           10.373273\n",
       "1339           kw_entir           10.304436\n",
       "1722          kw_resume           10.042393\n",
       "467         kw_problems            9.940675\n",
       "2353            kw_tree            9.866395\n",
       "540            kw_today            9.768034"
      ]
     },
     "execution_count": 30,
     "metadata": {},
     "output_type": "execute_result"
    }
   ],
   "source": [
    "#What are the highest ranked features for select k best?\n",
    "kbesttop30 = kbest.sort_values('f_regression score', ascending=False).head(50)\n",
    "#kbesttop30 = kbesttop30[kbesttop30['f_classif score'] != inf]\n",
    "kbesttop30"
   ]
  },
  {
   "cell_type": "markdown",
   "metadata": {},
   "source": [
    "Getting a lot of infinite values using select k best, perhaps RFECV will be a better approach."
   ]
  },
  {
   "cell_type": "code",
   "execution_count": 31,
   "metadata": {},
   "outputs": [],
   "source": [
    "#Now try RFECV\n",
    "lr = LinearRegression()\n",
    "selector = RFECV(lr, step=0.5, cv=10)\n",
    "selector.fit(Xs_train, y_train)\n",
    "\n",
    "rfe = pd.DataFrame({'feature':list(X_train.columns),'ranking':list(selector.ranking_),'support':list(selector.support_)})"
   ]
  },
  {
   "cell_type": "code",
   "execution_count": 32,
   "metadata": {},
   "outputs": [],
   "source": [
    "#We'll also look at the top 10 ranked features for rfe\n",
    "rfetop30 = rfe.sort_values('ranking',ascending=True).head(30)"
   ]
  },
  {
   "cell_type": "code",
   "execution_count": 33,
   "metadata": {},
   "outputs": [
    {
     "data": {
      "text/plain": [
       "2523"
      ]
     },
     "execution_count": 33,
     "metadata": {},
     "output_type": "execute_result"
    }
   ],
   "source": [
    "#Let's use the features supported by RFECV\n",
    "rfesupported = rfe[rfe['support']==True]\n",
    "len(rfesupported)"
   ]
  },
  {
   "cell_type": "code",
   "execution_count": 34,
   "metadata": {},
   "outputs": [
    {
     "name": "stdout",
     "output_type": "stream",
     "text": [
      "['kw_multitask', 'kw_write', 'kw_advantages', 'kw_statement', 'kw_900', 'kw_opportunist', 'kw_equ', 'kw_explain', 'kw_random', 'kw_9249', 'kw_smal', 'kw_activitiesyour', 'kw_opensourc', 'kw_rebecca', 'kw_entir', 'kw_layer', 'kw_tree', 'kw_usage', 'kw_demanding', 'kw_problems', 'kw_themat', 'kw_ecommerc', 'kw_lead', 'kw_businesses', 'kw_resume', 'kw_forest', 'kw_domains', 'kw_today', 'kw_ward', 'kw_cap', 'kw_retail', 'kw_bank', 'kw_cosmetics', 'kw_text', 'kw_clustering', 'kw_tight', 'kw_idea', 'kw_communicator', 'kw_organ', 'kw_multitud', 'kw_teams', 'kw_analytical', 'kw_drawbacks', 'kw_prefer', 'kw_entrepreneuri', 'kw_8041', 'kw_transit', 'kw_pay', 'kw_indepth', 'kw_major']\n"
     ]
    }
   ],
   "source": [
    "#We could also select features that appear in both lists\n",
    "combined_features = list(set(kbesttop30.feature).intersection(rfesupported.feature))\n",
    "print(combined_features)"
   ]
  },
  {
   "cell_type": "markdown",
   "metadata": {},
   "source": [
    "### <a id='3.4.5'>3.4.5 Re-try linear modelling after feature elimination</a>"
   ]
  },
  {
   "cell_type": "code",
   "execution_count": 35,
   "metadata": {},
   "outputs": [],
   "source": [
    "#Define new predictor matrix\n",
    "Xsub = X[rfesupported.feature]\n",
    "#Xsub = X[combined_features]\n",
    "#Xsub = X[kbesttop30.feature]\n",
    "\n",
    "#I did a lot of trial and error here to decide which set of selected features to use, in the end using the features supported\n",
    "#by RFECV only yielded the best results."
   ]
  },
  {
   "cell_type": "code",
   "execution_count": 36,
   "metadata": {},
   "outputs": [],
   "source": [
    "#New test/train split\n",
    "Xsub_train, Xsub_test, y_train, y_test = train_test_split(Xsub, y, test_size=0.5, random_state=11)"
   ]
  },
  {
   "cell_type": "code",
   "execution_count": 37,
   "metadata": {},
   "outputs": [],
   "source": [
    "#Standardize new predictors\n",
    "ss = StandardScaler()\n",
    "Xsub_train = ss.fit_transform(Xsub_train)\n",
    "Xsub_test = ss.transform(Xsub_test)"
   ]
  },
  {
   "cell_type": "code",
   "execution_count": 38,
   "metadata": {},
   "outputs": [
    {
     "data": {
      "text/plain": [
       "LinearRegression(copy_X=True, fit_intercept=True, n_jobs=1, normalize=False)"
      ]
     },
     "execution_count": 38,
     "metadata": {},
     "output_type": "execute_result"
    }
   ],
   "source": [
    "#Fit on a linear regression model again\n",
    "lr = LinearRegression()\n",
    "lr.fit(Xsub_train, y_train)"
   ]
  },
  {
   "cell_type": "code",
   "execution_count": 39,
   "metadata": {},
   "outputs": [
    {
     "data": {
      "text/plain": [
       "1.0"
      ]
     },
     "execution_count": 39,
     "metadata": {},
     "output_type": "execute_result"
    }
   ],
   "source": [
    "#Training r2\n",
    "get_r2(lr, Xsub_train, y_train)"
   ]
  },
  {
   "cell_type": "code",
   "execution_count": 40,
   "metadata": {},
   "outputs": [
    {
     "data": {
      "text/plain": [
       "0.39576679502854917"
      ]
     },
     "execution_count": 40,
     "metadata": {},
     "output_type": "execute_result"
    }
   ],
   "source": [
    "#Test r2\n",
    "get_r2(lr, Xsub_test, y_test)"
   ]
  },
  {
   "cell_type": "markdown",
   "metadata": {},
   "source": [
    "Still over-fitted to the training data. Maybe if we combine this smaller predictor matrix with regularization we can improve the test score."
   ]
  },
  {
   "cell_type": "code",
   "execution_count": 41,
   "metadata": {},
   "outputs": [
    {
     "data": {
      "text/plain": [
       "Ridge(alpha=775.2597488629465, copy_X=True, fit_intercept=True, max_iter=None,\n",
       "   normalize=False, random_state=None, solver='auto', tol=0.001)"
      ]
     },
     "execution_count": 41,
     "metadata": {},
     "output_type": "execute_result"
    }
   ],
   "source": [
    "#Ridge\n",
    "ridge = RidgeCV(alphas=np.logspace(0,5,200),cv=10)\n",
    "ridge.fit(Xsub_train,y_train)\n",
    "bestalpha = ridge.alpha_\n",
    "optimalridge = Ridge(alpha = bestalpha)\n",
    "optimalridge.fit(Xsub_train,y_train)"
   ]
  },
  {
   "cell_type": "code",
   "execution_count": 42,
   "metadata": {},
   "outputs": [
    {
     "name": "stdout",
     "output_type": "stream",
     "text": [
      "train r2:  0.9329926186673902\n",
      "test r2:  0.37226034272296993\n"
     ]
    }
   ],
   "source": [
    "#r2\n",
    "print('train r2: ', get_r2(optimalridge, Xsub_train, y_train))\n",
    "print('test r2: ', get_r2(optimalridge, Xsub_test, y_test))"
   ]
  },
  {
   "cell_type": "code",
   "execution_count": 43,
   "metadata": {},
   "outputs": [
    {
     "data": {
      "text/plain": [
       "Lasso(alpha=4659.525668664682, copy_X=True, fit_intercept=True, max_iter=1000,\n",
       "   normalize=False, positive=False, precompute=False, random_state=None,\n",
       "   selection='cyclic', tol=0.0001, warm_start=False)"
      ]
     },
     "execution_count": 43,
     "metadata": {},
     "output_type": "execute_result"
    }
   ],
   "source": [
    "#Lasso\n",
    "lasso = LassoCV(alphas=np.logspace(0,5,200), cv=10)\n",
    "lasso.fit(Xsub_train, y_train)\n",
    "bestalpha=lasso.alpha_\n",
    "optimallasso = Lasso(alpha = bestalpha)\n",
    "optimallasso.fit(Xsub_train, y_train)"
   ]
  },
  {
   "cell_type": "code",
   "execution_count": 44,
   "metadata": {},
   "outputs": [
    {
     "name": "stdout",
     "output_type": "stream",
     "text": [
      "train r2:  0.8117793540494999\n",
      "test r2:  0.09661941071828428\n"
     ]
    }
   ],
   "source": [
    "#r2\n",
    "print('train r2: ', get_r2(optimallasso, Xsub_train, y_train))\n",
    "print('test r2: ', get_r2(optimallasso, Xsub_test, y_test))"
   ]
  },
  {
   "cell_type": "code",
   "execution_count": 45,
   "metadata": {},
   "outputs": [
    {
     "data": {
      "text/plain": [
       "ElasticNet(alpha=21.497736789128407, copy_X=True, fit_intercept=True,\n",
       "      l1_ratio=0.8762500000000001, max_iter=1000, normalize=False,\n",
       "      positive=False, precompute=False, random_state=None,\n",
       "      selection='cyclic', tol=0.0001, warm_start=False)"
      ]
     },
     "execution_count": 45,
     "metadata": {},
     "output_type": "execute_result"
    }
   ],
   "source": [
    "#Elastic Net\n",
    "l1_ratios = np.linspace(0.01, 1.0, 25)\n",
    "elasticnet = ElasticNetCV(l1_ratio = l1_ratios,n_alphas = 200, cv=10)\n",
    "elasticnet.fit(Xsub_train,y_train)\n",
    "optimalenet = ElasticNet(alpha = elasticnet.alpha_, l1_ratio = elasticnet.l1_ratio_)\n",
    "optimalenet.fit(Xsub_train, y_train)"
   ]
  },
  {
   "cell_type": "code",
   "execution_count": 46,
   "metadata": {},
   "outputs": [
    {
     "name": "stdout",
     "output_type": "stream",
     "text": [
      "train r2:  0.9927342067631603\n",
      "test r2:  0.39558501910553234\n"
     ]
    }
   ],
   "source": [
    "#r2\n",
    "print('train r2: ', get_r2(optimalenet, Xsub_train, y_train))\n",
    "print('test r2: ', get_r2(optimalenet,Xsub_test, y_test))"
   ]
  },
  {
   "cell_type": "markdown",
   "metadata": {},
   "source": [
    "No matter what I do, I seem to be getting significantly lower $r^2$ values for my test data. The best result I could achieve with some trial and error ended up being elastic net using RFECV for feature elimination, and I will use this model for further validation and evaluation."
   ]
  },
  {
   "cell_type": "markdown",
   "metadata": {},
   "source": [
    "### <a id='3.4.6'>3.4.6 Is linear regression modelling appropriate?</a>"
   ]
  },
  {
   "cell_type": "markdown",
   "metadata": {},
   "source": [
    "Some of these issues may be due to violations of the assumptions of linear regression modelling."
   ]
  },
  {
   "cell_type": "code",
   "execution_count": 47,
   "metadata": {},
   "outputs": [],
   "source": [
    "y_hat = optimalenet.predict(Xsub_test)\n",
    "residuals = y_test - y_hat"
   ]
  },
  {
   "cell_type": "code",
   "execution_count": 48,
   "metadata": {},
   "outputs": [
    {
     "name": "stderr",
     "output_type": "stream",
     "text": [
      "C:\\Users\\Chris\\Anaconda3\\lib\\site-packages\\matplotlib\\axes\\_axes.py:6462: UserWarning: The 'normed' kwarg is deprecated, and has been replaced by the 'density' kwarg.\n",
      "  warnings.warn(\"The 'normed' kwarg is deprecated, and has been \"\n"
     ]
    },
    {
     "data": {
      "text/plain": [
       "<matplotlib.axes._subplots.AxesSubplot at 0x21c548b2ba8>"
      ]
     },
     "execution_count": 48,
     "metadata": {},
     "output_type": "execute_result"
    },
    {
     "data": {
      "image/png": "[encoded data removed]",
      "text/plain": [
       "<Figure size 432x288 with 1 Axes>"
      ]
     },
     "metadata": {},
     "output_type": "display_data"
    }
   ],
   "source": [
    "#Checking distribution of residuals\n",
    "sns.distplot(residuals, bins=12)"
   ]
  },
  {
   "cell_type": "markdown",
   "metadata": {},
   "source": [
    "The residuals of the target variable are slightly positively skewed but are still reasonably close to a normal distribution."
   ]
  },
  {
   "cell_type": "code",
   "execution_count": 49,
   "metadata": {},
   "outputs": [
    {
     "data": {
      "text/plain": [
       "(68,)"
      ]
     },
     "execution_count": 49,
     "metadata": {},
     "output_type": "execute_result"
    }
   ],
   "source": [
    "residuals.shape"
   ]
  },
  {
   "cell_type": "code",
   "execution_count": 50,
   "metadata": {},
   "outputs": [
    {
     "data": {
      "text/plain": [
       "<matplotlib.axes._subplots.AxesSubplot at 0x21c5482bd30>"
      ]
     },
     "execution_count": 50,
     "metadata": {},
     "output_type": "execute_result"
    },
    {
     "data": {
      "image/png": "[encoded data removed]",
      "text/plain": [
       "<Figure size 432x288 with 1 Axes>"
      ]
     },
     "metadata": {},
     "output_type": "display_data"
    }
   ],
   "source": [
    "#Check for homoscedasticity.\n",
    "sns.regplot(residuals, X_test['kw_analysi'], fit_reg=False)"
   ]
  },
  {
   "cell_type": "markdown",
   "metadata": {},
   "source": [
    "Plotting residuals against various predictor variables doesn't show any obvious signs of heteroscedasticity, as there is no clear trend in the residuals as these variables increase. Suggesting the assumptions of linear regression aren't violated."
   ]
  },
  {
   "cell_type": "markdown",
   "metadata": {},
   "source": [
    "We handled multicollinearity by excluding the variables with the highest correlation above. So it seems that the assumptions of linear regression are not violated here and that this is not the problem with my model."
   ]
  },
  {
   "cell_type": "markdown",
   "metadata": {},
   "source": [
    "### <a id='3.4.7'>3.4.7 How well is the model performing?</a>"
   ]
  },
  {
   "cell_type": "markdown",
   "metadata": {},
   "source": [
    "While the model is clearly over-fit to the training data, in order to properly evaluate how well it performs in general we need to compare its performance to a dummy regressor model."
   ]
  },
  {
   "cell_type": "code",
   "execution_count": 51,
   "metadata": {},
   "outputs": [],
   "source": [
    "from sklearn.dummy import DummyRegressor"
   ]
  },
  {
   "cell_type": "code",
   "execution_count": 52,
   "metadata": {},
   "outputs": [
    {
     "data": {
      "text/plain": [
       "DummyRegressor(constant=None, quantile=None, strategy='mean')"
      ]
     },
     "execution_count": 52,
     "metadata": {},
     "output_type": "execute_result"
    }
   ],
   "source": [
    "dr = DummyRegressor()\n",
    "dr.fit(Xsub_train, y_train)"
   ]
  },
  {
   "cell_type": "code",
   "execution_count": 53,
   "metadata": {},
   "outputs": [
    {
     "name": "stdout",
     "output_type": "stream",
     "text": [
      "dummy r2:  -0.019548204250124712\n",
      "model r2:  0.39558501910553234\n"
     ]
    }
   ],
   "source": [
    "print('dummy r2: ', get_r2(dr, Xsub_test, y_test))\n",
    "print('model r2: ', get_r2(optimalenet, Xsub_test, y_test))"
   ]
  },
  {
   "cell_type": "code",
   "execution_count": 54,
   "metadata": {
    "scrolled": true
   },
   "outputs": [
    {
     "data": {
      "text/plain": [
       "Text(0,0.5,'predicted values')"
      ]
     },
     "execution_count": 54,
     "metadata": {},
     "output_type": "execute_result"
    },
    {
     "data": {
      "image/png": "[encoded data removed]",
      "text/plain": [
       "<Figure size 432x288 with 1 Axes>"
      ]
     },
     "metadata": {},
     "output_type": "display_data"
    }
   ],
   "source": [
    "sns.regplot(y_test, y_hat)\n",
    "plt.xlabel('true values')\n",
    "plt.ylabel('predicted values')"
   ]
  },
  {
   "cell_type": "markdown",
   "metadata": {},
   "source": [
    "In comparison to the dummy regressor, my linear model is performing relatively well, making predictions roughly 40% better than a baseline naive estimate."
   ]
  },
  {
   "cell_type": "markdown",
   "metadata": {},
   "source": [
    "### <a id='3.4.8'>3.4.8 What keywords have the greatest impact on salary?</a>"
   ]
  },
  {
   "cell_type": "code",
   "execution_count": 55,
   "metadata": {
    "scrolled": true
   },
   "outputs": [
    {
     "data": {
      "text/html": [
       "<div>\n",
       "<style scoped>\n",
       "    .dataframe tbody tr th:only-of-type {\n",
       "        vertical-align: middle;\n",
       "    }\n",
       "\n",
       "    .dataframe tbody tr th {\n",
       "        vertical-align: top;\n",
       "    }\n",
       "\n",
       "    .dataframe thead th {\n",
       "        text-align: right;\n",
       "    }\n",
       "</style>\n",
       "<table border=\"1\" class=\"dataframe\">\n",
       "  <thead>\n",
       "    <tr style=\"text-align: right;\">\n",
       "      <th></th>\n",
       "      <th>feature</th>\n",
       "      <th>coefficient</th>\n",
       "      <th>abs</th>\n",
       "    </tr>\n",
       "  </thead>\n",
       "  <tbody>\n",
       "    <tr>\n",
       "      <th>1270</th>\n",
       "      <td>kw_entrepreneuri</td>\n",
       "      <td>569.289809</td>\n",
       "      <td>569.289809</td>\n",
       "    </tr>\n",
       "    <tr>\n",
       "      <th>1514</th>\n",
       "      <td>kw_multitask</td>\n",
       "      <td>569.287428</td>\n",
       "      <td>569.287428</td>\n",
       "    </tr>\n",
       "    <tr>\n",
       "      <th>1224</th>\n",
       "      <td>kw_indepth</td>\n",
       "      <td>569.286508</td>\n",
       "      <td>569.286508</td>\n",
       "    </tr>\n",
       "    <tr>\n",
       "      <th>573</th>\n",
       "      <td>kw_organ</td>\n",
       "      <td>569.285663</td>\n",
       "      <td>569.285663</td>\n",
       "    </tr>\n",
       "    <tr>\n",
       "      <th>586</th>\n",
       "      <td>kw_major</td>\n",
       "      <td>569.285481</td>\n",
       "      <td>569.285481</td>\n",
       "    </tr>\n",
       "    <tr>\n",
       "      <th>1056</th>\n",
       "      <td>kw_businesses</td>\n",
       "      <td>569.285135</td>\n",
       "      <td>569.285135</td>\n",
       "    </tr>\n",
       "    <tr>\n",
       "      <th>1074</th>\n",
       "      <td>kw_transit</td>\n",
       "      <td>569.284675</td>\n",
       "      <td>569.284675</td>\n",
       "    </tr>\n",
       "    <tr>\n",
       "      <th>2500</th>\n",
       "      <td>kw_activitiesyour</td>\n",
       "      <td>569.283943</td>\n",
       "      <td>569.283943</td>\n",
       "    </tr>\n",
       "    <tr>\n",
       "      <th>2125</th>\n",
       "      <td>kw_cap</td>\n",
       "      <td>569.283117</td>\n",
       "      <td>569.283117</td>\n",
       "    </tr>\n",
       "    <tr>\n",
       "      <th>2408</th>\n",
       "      <td>kw_smal</td>\n",
       "      <td>569.282994</td>\n",
       "      <td>569.282994</td>\n",
       "    </tr>\n",
       "    <tr>\n",
       "      <th>2131</th>\n",
       "      <td>kw_equ</td>\n",
       "      <td>569.282984</td>\n",
       "      <td>569.282984</td>\n",
       "    </tr>\n",
       "    <tr>\n",
       "      <th>2429</th>\n",
       "      <td>kw_themat</td>\n",
       "      <td>569.282927</td>\n",
       "      <td>569.282927</td>\n",
       "    </tr>\n",
       "    <tr>\n",
       "      <th>2304</th>\n",
       "      <td>kw_demanding</td>\n",
       "      <td>569.282826</td>\n",
       "      <td>569.282826</td>\n",
       "    </tr>\n",
       "    <tr>\n",
       "      <th>1033</th>\n",
       "      <td>kw_tight</td>\n",
       "      <td>541.811765</td>\n",
       "      <td>541.811765</td>\n",
       "    </tr>\n",
       "    <tr>\n",
       "      <th>1268</th>\n",
       "      <td>kw_statement</td>\n",
       "      <td>508.190864</td>\n",
       "      <td>508.190864</td>\n",
       "    </tr>\n",
       "  </tbody>\n",
       "</table>\n",
       "</div>"
      ],
      "text/plain": [
       "                feature  coefficient         abs\n",
       "1270   kw_entrepreneuri   569.289809  569.289809\n",
       "1514       kw_multitask   569.287428  569.287428\n",
       "1224         kw_indepth   569.286508  569.286508\n",
       "573            kw_organ   569.285663  569.285663\n",
       "586            kw_major   569.285481  569.285481\n",
       "1056      kw_businesses   569.285135  569.285135\n",
       "1074         kw_transit   569.284675  569.284675\n",
       "2500  kw_activitiesyour   569.283943  569.283943\n",
       "2125             kw_cap   569.283117  569.283117\n",
       "2408            kw_smal   569.282994  569.282994\n",
       "2131             kw_equ   569.282984  569.282984\n",
       "2429          kw_themat   569.282927  569.282927\n",
       "2304       kw_demanding   569.282826  569.282826\n",
       "1033           kw_tight   541.811765  541.811765\n",
       "1268       kw_statement   508.190864  508.190864"
      ]
     },
     "execution_count": 55,
     "metadata": {},
     "output_type": "execute_result"
    }
   ],
   "source": [
    "optimalenet.coef_\n",
    "enetcoef = pd.DataFrame({'feature':Xsub.columns, 'coefficient':optimalenet.coef_, 'abs':abs(optimalenet.coef_)})\n",
    "enetcoef.sort_values('coefficient', ascending=False).head(15)"
   ]
  },
  {
   "cell_type": "markdown",
   "metadata": {},
   "source": [
    "The keywords that have the biggest positive impact on predicted mean salary are listed above. Job listings that score highly on the word 'entrepreneurial' were more likely to have a higher predicted mean salary than those that don't. ('Scoring highly' in this context means having a higher tf-idf score for this word, that is that the job summary used this word more frequently than other job summaries). Other words such as 'businesses', 'cap (probably short for capital?) and 'equ'(short for equity?) also predicted higher salary, suggesting that perhaps private and financial sector jobs tend to have higher salaries. Interesting jobs that scored highly for both 'major' and 'small' had higher predicted mean salaries. It is possible context is important in this case, and possibly using ngrams to look at the words in context would be a useful future step. Words that indicate a high-pressure environment like 'multitask', 'demanding' and 'tight' also predicted a higher salary, suggesting that if you want a high paying job, be prepared for stress."
   ]
  },
  {
   "cell_type": "code",
   "execution_count": 56,
   "metadata": {},
   "outputs": [
    {
     "data": {
      "text/html": [
       "<div>\n",
       "<style scoped>\n",
       "    .dataframe tbody tr th:only-of-type {\n",
       "        vertical-align: middle;\n",
       "    }\n",
       "\n",
       "    .dataframe tbody tr th {\n",
       "        vertical-align: top;\n",
       "    }\n",
       "\n",
       "    .dataframe thead th {\n",
       "        text-align: right;\n",
       "    }\n",
       "</style>\n",
       "<table border=\"1\" class=\"dataframe\">\n",
       "  <thead>\n",
       "    <tr style=\"text-align: right;\">\n",
       "      <th></th>\n",
       "      <th>feature</th>\n",
       "      <th>coefficient</th>\n",
       "      <th>abs</th>\n",
       "    </tr>\n",
       "  </thead>\n",
       "  <tbody>\n",
       "    <tr>\n",
       "      <th>2069</th>\n",
       "      <td>kw_assignments</td>\n",
       "      <td>-435.328143</td>\n",
       "      <td>435.328143</td>\n",
       "    </tr>\n",
       "    <tr>\n",
       "      <th>1567</th>\n",
       "      <td>kw_qlikview</td>\n",
       "      <td>-435.312779</td>\n",
       "      <td>435.312779</td>\n",
       "    </tr>\n",
       "    <tr>\n",
       "      <th>2382</th>\n",
       "      <td>kw_chip</td>\n",
       "      <td>-435.300532</td>\n",
       "      <td>435.300532</td>\n",
       "    </tr>\n",
       "    <tr>\n",
       "      <th>976</th>\n",
       "      <td>kw_oracl</td>\n",
       "      <td>-435.274318</td>\n",
       "      <td>435.274318</td>\n",
       "    </tr>\n",
       "    <tr>\n",
       "      <th>631</th>\n",
       "      <td>kw_academ</td>\n",
       "      <td>-377.973970</td>\n",
       "      <td>377.973970</td>\n",
       "    </tr>\n",
       "    <tr>\n",
       "      <th>2138</th>\n",
       "      <td>kw_blue</td>\n",
       "      <td>-376.416110</td>\n",
       "      <td>376.416110</td>\n",
       "    </tr>\n",
       "    <tr>\n",
       "      <th>7</th>\n",
       "      <td>title_junior</td>\n",
       "      <td>-358.147583</td>\n",
       "      <td>358.147583</td>\n",
       "    </tr>\n",
       "    <tr>\n",
       "      <th>370</th>\n",
       "      <td>kw_onli</td>\n",
       "      <td>-342.096485</td>\n",
       "      <td>342.096485</td>\n",
       "    </tr>\n",
       "    <tr>\n",
       "      <th>892</th>\n",
       "      <td>kw_https</td>\n",
       "      <td>-337.912971</td>\n",
       "      <td>337.912971</td>\n",
       "    </tr>\n",
       "    <tr>\n",
       "      <th>563</th>\n",
       "      <td>kw_increas</td>\n",
       "      <td>-314.702370</td>\n",
       "      <td>314.702370</td>\n",
       "    </tr>\n",
       "    <tr>\n",
       "      <th>860</th>\n",
       "      <td>kw_period</td>\n",
       "      <td>-314.381527</td>\n",
       "      <td>314.381527</td>\n",
       "    </tr>\n",
       "    <tr>\n",
       "      <th>494</th>\n",
       "      <td>kw_junior</td>\n",
       "      <td>-314.339864</td>\n",
       "      <td>314.339864</td>\n",
       "    </tr>\n",
       "    <tr>\n",
       "      <th>859</th>\n",
       "      <td>kw_extend</td>\n",
       "      <td>-305.196404</td>\n",
       "      <td>305.196404</td>\n",
       "    </tr>\n",
       "    <tr>\n",
       "      <th>2164</th>\n",
       "      <td>kw_bought</td>\n",
       "      <td>-300.536899</td>\n",
       "      <td>300.536899</td>\n",
       "    </tr>\n",
       "    <tr>\n",
       "      <th>1973</th>\n",
       "      <td>kw_6month</td>\n",
       "      <td>-300.536806</td>\n",
       "      <td>300.536806</td>\n",
       "    </tr>\n",
       "  </tbody>\n",
       "</table>\n",
       "</div>"
      ],
      "text/plain": [
       "             feature  coefficient         abs\n",
       "2069  kw_assignments  -435.328143  435.328143\n",
       "1567     kw_qlikview  -435.312779  435.312779\n",
       "2382         kw_chip  -435.300532  435.300532\n",
       "976         kw_oracl  -435.274318  435.274318\n",
       "631        kw_academ  -377.973970  377.973970\n",
       "2138         kw_blue  -376.416110  376.416110\n",
       "7       title_junior  -358.147583  358.147583\n",
       "370          kw_onli  -342.096485  342.096485\n",
       "892         kw_https  -337.912971  337.912971\n",
       "563       kw_increas  -314.702370  314.702370\n",
       "860        kw_period  -314.381527  314.381527\n",
       "494        kw_junior  -314.339864  314.339864\n",
       "859        kw_extend  -305.196404  305.196404\n",
       "2164       kw_bought  -300.536899  300.536899\n",
       "1973       kw_6month  -300.536806  300.536806"
      ]
     },
     "execution_count": 56,
     "metadata": {},
     "output_type": "execute_result"
    }
   ],
   "source": [
    "enetcoef.sort_values('coefficient', ascending=True).head(15)"
   ]
  },
  {
   "cell_type": "markdown",
   "metadata": {},
   "source": [
    "As for those keywords that had a negative impact on predicted salary, a few noticeable trends are present. Understandably, the word 'junior' in both the summary and the job title predicted a lower salary. Amusingly, so did the words 'blue' and 'chip', suggesting that companies that self describe as 'blue chip' are perhaps not likely to pay as well. Disappointingly but in no way surprisingly, the keyword 'academic' also predicted a lower mean salary, suggesting that academic roles are not the most lucrative way to go in the data industry. It appears also that shorter-term contract work also negatively impacts predicted salary, with words like 'period', 'extend' and '6month' all being negative predictors as well."
   ]
  },
  {
   "cell_type": "markdown",
   "metadata": {},
   "source": [
    "### <a id='3.4.9'>3.4.9 Does it make more sense to binarize the data?</a>"
   ]
  },
  {
   "cell_type": "markdown",
   "metadata": {},
   "source": [
    "Would it make more sense to just look for the presence of a word in the title/summary, regardless of how many times it appears? For example, specific skills might be important but only be mentioned once in the summary. Taking the tf-idf scores may be masking the importance of one-off words."
   ]
  },
  {
   "cell_type": "code",
   "execution_count": 57,
   "metadata": {},
   "outputs": [],
   "source": [
    "def binarizer(x):\n",
    "    if x > 0:\n",
    "        v = 1\n",
    "    else:\n",
    "        v = 0\n",
    "    return v"
   ]
  },
  {
   "cell_type": "code",
   "execution_count": 58,
   "metadata": {},
   "outputs": [],
   "source": [
    "Xbin = pd.DataFrame([X[column].apply(binarizer) for column in X.columns]).transpose()"
   ]
  },
  {
   "cell_type": "code",
   "execution_count": 59,
   "metadata": {},
   "outputs": [],
   "source": [
    "Xbin_train, Xbin_test, y_train, y_test = train_test_split(Xsub, y, test_size=0.5, random_state=11)"
   ]
  },
  {
   "cell_type": "code",
   "execution_count": 60,
   "metadata": {},
   "outputs": [
    {
     "data": {
      "text/plain": [
       "ElasticNet(alpha=1865.5755700327927, copy_X=True, fit_intercept=True,\n",
       "      l1_ratio=1.0, max_iter=1000, normalize=False, positive=False,\n",
       "      precompute=False, random_state=None, selection='cyclic', tol=0.0001,\n",
       "      warm_start=False)"
      ]
     },
     "execution_count": 60,
     "metadata": {},
     "output_type": "execute_result"
    }
   ],
   "source": [
    "l1_ratios = np.linspace(0.01, 1.0, 25)\n",
    "elasticnet = ElasticNetCV(l1_ratio = l1_ratios,n_alphas = 200, cv=10)\n",
    "elasticnet.fit(Xbin_train,y_train)\n",
    "optimalenet = ElasticNet(alpha = elasticnet.alpha_, l1_ratio = elasticnet.l1_ratio_)\n",
    "optimalenet.fit(Xbin_train, y_train)"
   ]
  },
  {
   "cell_type": "code",
   "execution_count": 61,
   "metadata": {},
   "outputs": [
    {
     "name": "stdout",
     "output_type": "stream",
     "text": [
      "train r2:  0.15813098406200854\n",
      "test r2:  0.1252773784549438\n"
     ]
    }
   ],
   "source": [
    "print('train r2: ', get_r2(optimalenet, Xbin_train, y_train))\n",
    "print('test r2: ', get_r2(optimalenet,Xbin_test, y_test))"
   ]
  },
  {
   "cell_type": "markdown",
   "metadata": {},
   "source": [
    "In terms of $r^2$ score, binarizing the data does not improve the performance of the model."
   ]
  },
  {
   "cell_type": "code",
   "execution_count": 62,
   "metadata": {
    "scrolled": true
   },
   "outputs": [
    {
     "data": {
      "text/html": [
       "<div>\n",
       "<style scoped>\n",
       "    .dataframe tbody tr th:only-of-type {\n",
       "        vertical-align: middle;\n",
       "    }\n",
       "\n",
       "    .dataframe tbody tr th {\n",
       "        vertical-align: top;\n",
       "    }\n",
       "\n",
       "    .dataframe thead th {\n",
       "        text-align: right;\n",
       "    }\n",
       "</style>\n",
       "<table border=\"1\" class=\"dataframe\">\n",
       "  <thead>\n",
       "    <tr style=\"text-align: right;\">\n",
       "      <th></th>\n",
       "      <th>feature</th>\n",
       "      <th>coefficient</th>\n",
       "      <th>abs</th>\n",
       "    </tr>\n",
       "  </thead>\n",
       "  <tbody>\n",
       "    <tr>\n",
       "      <th>30</th>\n",
       "      <td>state_NSW</td>\n",
       "      <td>18329.644875</td>\n",
       "      <td>18329.644875</td>\n",
       "    </tr>\n",
       "    <tr>\n",
       "      <th>2515</th>\n",
       "      <td>skill_python</td>\n",
       "      <td>13268.286001</td>\n",
       "      <td>13268.286001</td>\n",
       "    </tr>\n",
       "    <tr>\n",
       "      <th>0</th>\n",
       "      <td>title_data</td>\n",
       "      <td>-0.000000</td>\n",
       "      <td>0.000000</td>\n",
       "    </tr>\n",
       "    <tr>\n",
       "      <th>1685</th>\n",
       "      <td>kw_targets</td>\n",
       "      <td>-0.000000</td>\n",
       "      <td>0.000000</td>\n",
       "    </tr>\n",
       "    <tr>\n",
       "      <th>1678</th>\n",
       "      <td>kw_wellbeing</td>\n",
       "      <td>-0.000000</td>\n",
       "      <td>0.000000</td>\n",
       "    </tr>\n",
       "    <tr>\n",
       "      <th>1679</th>\n",
       "      <td>kw_prevent</td>\n",
       "      <td>0.000000</td>\n",
       "      <td>0.000000</td>\n",
       "    </tr>\n",
       "    <tr>\n",
       "      <th>1680</th>\n",
       "      <td>kw_sciences</td>\n",
       "      <td>-0.000000</td>\n",
       "      <td>0.000000</td>\n",
       "    </tr>\n",
       "    <tr>\n",
       "      <th>1681</th>\n",
       "      <td>kw_flex</td>\n",
       "      <td>-0.000000</td>\n",
       "      <td>0.000000</td>\n",
       "    </tr>\n",
       "    <tr>\n",
       "      <th>1682</th>\n",
       "      <td>kw_treatment</td>\n",
       "      <td>0.000000</td>\n",
       "      <td>0.000000</td>\n",
       "    </tr>\n",
       "    <tr>\n",
       "      <th>1683</th>\n",
       "      <td>kw_churn</td>\n",
       "      <td>-0.000000</td>\n",
       "      <td>0.000000</td>\n",
       "    </tr>\n",
       "    <tr>\n",
       "      <th>1684</th>\n",
       "      <td>kw_professor</td>\n",
       "      <td>-0.000000</td>\n",
       "      <td>0.000000</td>\n",
       "    </tr>\n",
       "    <tr>\n",
       "      <th>1686</th>\n",
       "      <td>kw_laptop</td>\n",
       "      <td>-0.000000</td>\n",
       "      <td>0.000000</td>\n",
       "    </tr>\n",
       "    <tr>\n",
       "      <th>1676</th>\n",
       "      <td>kw_questionnair</td>\n",
       "      <td>-0.000000</td>\n",
       "      <td>0.000000</td>\n",
       "    </tr>\n",
       "    <tr>\n",
       "      <th>1687</th>\n",
       "      <td>kw_diseas</td>\n",
       "      <td>-0.000000</td>\n",
       "      <td>0.000000</td>\n",
       "    </tr>\n",
       "    <tr>\n",
       "      <th>1688</th>\n",
       "      <td>kw_fx</td>\n",
       "      <td>-0.000000</td>\n",
       "      <td>0.000000</td>\n",
       "    </tr>\n",
       "    <tr>\n",
       "      <th>1689</th>\n",
       "      <td>kw_create</td>\n",
       "      <td>-0.000000</td>\n",
       "      <td>0.000000</td>\n",
       "    </tr>\n",
       "    <tr>\n",
       "      <th>1690</th>\n",
       "      <td>kw_enrol</td>\n",
       "      <td>-0.000000</td>\n",
       "      <td>0.000000</td>\n",
       "    </tr>\n",
       "    <tr>\n",
       "      <th>1691</th>\n",
       "      <td>kw_investments</td>\n",
       "      <td>0.000000</td>\n",
       "      <td>0.000000</td>\n",
       "    </tr>\n",
       "    <tr>\n",
       "      <th>1692</th>\n",
       "      <td>kw_usual</td>\n",
       "      <td>-0.000000</td>\n",
       "      <td>0.000000</td>\n",
       "    </tr>\n",
       "    <tr>\n",
       "      <th>1693</th>\n",
       "      <td>kw_consultancy</td>\n",
       "      <td>-0.000000</td>\n",
       "      <td>0.000000</td>\n",
       "    </tr>\n",
       "  </tbody>\n",
       "</table>\n",
       "</div>"
      ],
      "text/plain": [
       "              feature   coefficient           abs\n",
       "30          state_NSW  18329.644875  18329.644875\n",
       "2515     skill_python  13268.286001  13268.286001\n",
       "0          title_data     -0.000000      0.000000\n",
       "1685       kw_targets     -0.000000      0.000000\n",
       "1678     kw_wellbeing     -0.000000      0.000000\n",
       "1679       kw_prevent      0.000000      0.000000\n",
       "1680      kw_sciences     -0.000000      0.000000\n",
       "1681          kw_flex     -0.000000      0.000000\n",
       "1682     kw_treatment      0.000000      0.000000\n",
       "1683         kw_churn     -0.000000      0.000000\n",
       "1684     kw_professor     -0.000000      0.000000\n",
       "1686        kw_laptop     -0.000000      0.000000\n",
       "1676  kw_questionnair     -0.000000      0.000000\n",
       "1687        kw_diseas     -0.000000      0.000000\n",
       "1688            kw_fx     -0.000000      0.000000\n",
       "1689        kw_create     -0.000000      0.000000\n",
       "1690         kw_enrol     -0.000000      0.000000\n",
       "1691   kw_investments      0.000000      0.000000\n",
       "1692         kw_usual     -0.000000      0.000000\n",
       "1693   kw_consultancy     -0.000000      0.000000"
      ]
     },
     "execution_count": 62,
     "metadata": {},
     "output_type": "execute_result"
    }
   ],
   "source": [
    "optimalenet.coef_\n",
    "enetcoef = pd.DataFrame({'feature':Xsub.columns, 'coefficient':optimalenet.coef_, 'abs':abs(optimalenet.coef_)})\n",
    "enetcoef.sort_values('abs', ascending=False).head(20)"
   ]
  },
  {
   "cell_type": "markdown",
   "metadata": {},
   "source": [
    "Overall, binarizing the data led to a model that does much better in terms of overfitting to the training data, but its overall performance is worse. Oddly, the only two features that impacted the prediction were being in the state NSW and listing python as a desired skill. Apparently this model predicts that if a job is in NSW and requires python skills, it's much more likely to pay well."
   ]
  },
  {
   "cell_type": "markdown",
   "metadata": {},
   "source": [
    "## <a id='3.5'>3.5 Classification modelling</a>"
   ]
  },
  {
   "cell_type": "markdown",
   "metadata": {},
   "source": [
    "Regression modelling led to some interesting observations, but I had some doubts about the efficacy of the model. Given the discontinuous distribution of the salary data, is it easier to predict salary if we define three categories: low, medium and high?"
   ]
  },
  {
   "cell_type": "code",
   "execution_count": 63,
   "metadata": {},
   "outputs": [],
   "source": [
    "#Create a function to classify salary as high (2), medium (1) or low (0)\n",
    "def salary_classifier(salary):\n",
    "    if salary > 120000:\n",
    "        c = 2\n",
    "    elif salary > 80000:\n",
    "        c = 1\n",
    "    else:\n",
    "        c = 0\n",
    "    return c"
   ]
  },
  {
   "cell_type": "code",
   "execution_count": 64,
   "metadata": {},
   "outputs": [
    {
     "name": "stderr",
     "output_type": "stream",
     "text": [
      "C:\\Users\\Chris\\Anaconda3\\lib\\site-packages\\ipykernel_launcher.py:2: SettingWithCopyWarning: \n",
      "A value is trying to be set on a copy of a slice from a DataFrame.\n",
      "Try using .loc[row_indexer,col_indexer] = value instead\n",
      "\n",
      "See the caveats in the documentation: http://pandas.pydata.org/pandas-docs/stable/indexing.html#indexing-view-versus-copy\n",
      "  \n"
     ]
    }
   ],
   "source": [
    "#Create a new column by applying this function to the mean salary column\n",
    "jobs_subset['salary_class'] = jobs_subset['salary_mean'].apply(salary_classifier)"
   ]
  },
  {
   "cell_type": "code",
   "execution_count": 65,
   "metadata": {
    "scrolled": true
   },
   "outputs": [
    {
     "data": {
      "text/plain": [
       "1    50\n",
       "0    46\n",
       "2    39\n",
       "Name: salary_class, dtype: int64"
      ]
     },
     "execution_count": 65,
     "metadata": {},
     "output_type": "execute_result"
    }
   ],
   "source": [
    "#Are the classes balanced?\n",
    "jobs_subset['salary_class'].value_counts()"
   ]
  },
  {
   "cell_type": "code",
   "execution_count": 66,
   "metadata": {},
   "outputs": [
    {
     "data": {
      "text/plain": [
       "0.37037037037037035"
      ]
     },
     "execution_count": 66,
     "metadata": {},
     "output_type": "execute_result"
    }
   ],
   "source": [
    "#What's the baseline accuracy?\n",
    "baseline = len(jobs_subset[jobs_subset['salary_class'] == 1]) / len(jobs_subset['salary_class'])\n",
    "baseline"
   ]
  },
  {
   "cell_type": "markdown",
   "metadata": {},
   "source": [
    "### <a id='3.5.1'>3.5.1 Define variables for classification</a>"
   ]
  },
  {
   "cell_type": "code",
   "execution_count": 67,
   "metadata": {},
   "outputs": [],
   "source": [
    "#Define new predictor variable\n",
    "y = jobs_subset['salary_class']"
   ]
  },
  {
   "cell_type": "code",
   "execution_count": 68,
   "metadata": {},
   "outputs": [],
   "source": [
    "#Create train/test split\n",
    "X_train, X_test, y_train, y_test = train_test_split(X, y, test_size = 0.5, random_state = 11, stratify=jobs_subset['salary_class'])"
   ]
  },
  {
   "cell_type": "code",
   "execution_count": 69,
   "metadata": {},
   "outputs": [],
   "source": [
    "#Standardise X_train/X_test\n",
    "ss = StandardScaler()\n",
    "X_train = ss.fit_transform(X_train)\n",
    "X_test = ss.transform(X_test)"
   ]
  },
  {
   "cell_type": "markdown",
   "metadata": {},
   "source": [
    "### <a id='3.5.2'>3.5.2 Classification with K-nearest neighbors</a>"
   ]
  },
  {
   "cell_type": "code",
   "execution_count": 70,
   "metadata": {},
   "outputs": [
    {
     "data": {
      "text/plain": [
       "GridSearchCV(cv=5, error_score='raise',\n",
       "       estimator=KNeighborsClassifier(algorithm='auto', leaf_size=30, metric='minkowski',\n",
       "           metric_params=None, n_jobs=1, n_neighbors=5, p=2,\n",
       "           weights='uniform'),\n",
       "       fit_params=None, iid=True, n_jobs=1,\n",
       "       param_grid={'n_neighbors': [1, 3, 5, 9, 15, 18, 21, 25], 'weights': ['uniform', 'distance'], 'metric': ['euclidean', 'manhattan']},\n",
       "       pre_dispatch='2*n_jobs', refit=True, return_train_score='warn',\n",
       "       scoring=None, verbose=0)"
      ]
     },
     "execution_count": 70,
     "metadata": {},
     "output_type": "execute_result"
    }
   ],
   "source": [
    "#Conduct a GridSearch to find optimal hyperparameters for KNN\n",
    "knn_params = {'n_neighbors':[1,3,5,9,15,18,21,25],\n",
    "             'weights':['uniform','distance'],\n",
    "             'metric':['euclidean','manhattan']}\n",
    "knn_gs = GridSearchCV(KNeighborsClassifier(), knn_params, cv=5)\n",
    "knn_gs.fit(X_train, y_train)"
   ]
  },
  {
   "cell_type": "code",
   "execution_count": 71,
   "metadata": {},
   "outputs": [
    {
     "name": "stdout",
     "output_type": "stream",
     "text": [
      "{'metric': 'manhattan', 'n_neighbors': 25, 'weights': 'distance'}\n"
     ]
    }
   ],
   "source": [
    "#Fit a K-nearest neighbours model\n",
    "knn = knn_gs.best_estimator_\n",
    "print(knn_gs.best_params_)"
   ]
  },
  {
   "cell_type": "code",
   "execution_count": 72,
   "metadata": {},
   "outputs": [
    {
     "name": "stdout",
     "output_type": "stream",
     "text": [
      "model accuracy:  0.39705882352941174\n",
      "baseline accuracy:  0.37037037037037035\n"
     ]
    }
   ],
   "source": [
    "#Compare knn model accuracy to baseline\n",
    "knn_pred = knn.predict(X_test)\n",
    "knn_score = knn.score(X_test, y_test)\n",
    "print('model accuracy: ', knn.score(X_test, y_test))\n",
    "print('baseline accuracy: ', baseline)"
   ]
  },
  {
   "cell_type": "code",
   "execution_count": 73,
   "metadata": {},
   "outputs": [
    {
     "data": {
      "text/plain": [
       "<matplotlib.axes._subplots.AxesSubplot at 0x21c51c7a748>"
      ]
     },
     "execution_count": 73,
     "metadata": {},
     "output_type": "execute_result"
    },
    {
     "data": {
      "image/png": "[encoded data removed]",
      "text/plain": [
       "<Figure size 432x288 with 2 Axes>"
      ]
     },
     "metadata": {},
     "output_type": "display_data"
    }
   ],
   "source": [
    "cm1 = confusion_matrix(y_test, knn_pred)\n",
    "sns.heatmap(cm1, annot=True, fmt = '.1f', cmap = 'Blues', vmax = 30, vmin = 0, \n",
    "            xticklabels = ['Predicted Low','Predicted Medium','Predicted High'], \n",
    "            yticklabels = ['Actual Low', 'Actual Medium', 'Actual High'])"
   ]
  },
  {
   "cell_type": "markdown",
   "metadata": {},
   "source": [
    "The KNN model accuracy is slightly better than baseline."
   ]
  },
  {
   "cell_type": "markdown",
   "metadata": {},
   "source": [
    "### <a id='3.5.3'>3.5.3 Classification with support vector machine</a>"
   ]
  },
  {
   "cell_type": "code",
   "execution_count": 74,
   "metadata": {},
   "outputs": [
    {
     "data": {
      "text/plain": [
       "GridSearchCV(cv=5, error_score='raise',\n",
       "       estimator=SVC(C=1.0, cache_size=200, class_weight=None, coef0=0.0,\n",
       "  decision_function_shape='ovr', degree=3, gamma='auto', kernel='rbf',\n",
       "  max_iter=-1, probability=False, random_state=None, shrinking=True,\n",
       "  tol=0.001, verbose=False),\n",
       "       fit_params=None, iid=True, n_jobs=1,\n",
       "       param_grid={'gamma': array([1.00000e-05, 2.33572e-05, 5.45559e-05, 1.27427e-04, 2.97635e-04,\n",
       "       6.95193e-04, 1.62378e-03, 3.79269e-03, 8.85867e-03, 2.06914e-02,\n",
       "       4.83293e-02, 1.12884e-01, 2.63665e-01, 6.15848e-01, 1.43845e+00,\n",
       "       3.35982e+00, 7.84760e+00, 1.83298e+01, 4.28133e+01, 1.00....15443e+00, 7.74264e+00, 2.78256e+01, 1.00000e+02]), 'kernel': ['rbf', 'sigmoid', 'linear', 'poly']},\n",
       "       pre_dispatch='2*n_jobs', refit=True, return_train_score='warn',\n",
       "       scoring='accuracy', verbose=0)"
      ]
     },
     "execution_count": 74,
     "metadata": {},
     "output_type": "execute_result"
    }
   ],
   "source": [
    "#Gridsearch for optimal hyperparameters\n",
    "svm = SVC()\n",
    "gammas = np.logspace(-5, 2, 20)\n",
    "Cs = np.logspace(-3, 2, 10)\n",
    "kernels = ['rbf', 'sigmoid', 'linear', 'poly']\n",
    "params = dict(gamma=gammas, C=Cs, kernel=kernels)\n",
    "svm_gs = GridSearchCV(svm, params, cv=5, scoring='accuracy')\n",
    "svm_gs.fit(X_train, y_train)"
   ]
  },
  {
   "cell_type": "code",
   "execution_count": 75,
   "metadata": {},
   "outputs": [
    {
     "name": "stdout",
     "output_type": "stream",
     "text": [
      "{'C': 27.825594022071257, 'gamma': 5.4555947811685143e-05, 'kernel': 'rbf'}\n"
     ]
    }
   ],
   "source": [
    "svm_best = svm_gs.best_estimator_\n",
    "print(svm_gs.best_params_)"
   ]
  },
  {
   "cell_type": "code",
   "execution_count": 76,
   "metadata": {},
   "outputs": [
    {
     "name": "stdout",
     "output_type": "stream",
     "text": [
      "model accuracy:  0.6470588235294118\n",
      "baseline accuracy:  0.37037037037037035\n"
     ]
    }
   ],
   "source": [
    "svm_pred = svm_best.predict(X_test)\n",
    "svm_score = svm_best.score(X_test, y_test)\n",
    "print('model accuracy: ', svm_best.score(X_test, y_test))\n",
    "print('baseline accuracy: ', baseline)"
   ]
  },
  {
   "cell_type": "code",
   "execution_count": 77,
   "metadata": {},
   "outputs": [
    {
     "data": {
      "text/plain": [
       "<matplotlib.axes._subplots.AxesSubplot at 0x21c5a4acac8>"
      ]
     },
     "execution_count": 77,
     "metadata": {},
     "output_type": "execute_result"
    },
    {
     "data": {
      "image/png": "[encoded data removed]",
      "text/plain": [
       "<Figure size 432x288 with 2 Axes>"
      ]
     },
     "metadata": {},
     "output_type": "display_data"
    }
   ],
   "source": [
    "cm1 = confusion_matrix(y_test, svm_pred)\n",
    "sns.heatmap(cm1, annot=True, fmt = '.1f', cmap = 'Blues', vmax = 30, vmin = 0, \n",
    "            xticklabels = ['Predicted Low','Predicted Medium','Predicted High'], \n",
    "            yticklabels = ['Actual Low', 'Actual Medium', 'Actual High'])"
   ]
  },
  {
   "cell_type": "markdown",
   "metadata": {},
   "source": [
    "### <a id='3.5.4'>3.5.4 Classification with decision trees</a>"
   ]
  },
  {
   "cell_type": "code",
   "execution_count": 78,
   "metadata": {},
   "outputs": [
    {
     "data": {
      "text/plain": [
       "GridSearchCV(cv=5, error_score='raise',\n",
       "       estimator=DecisionTreeClassifier(class_weight=None, criterion='gini', max_depth=None,\n",
       "            max_features=None, max_leaf_nodes=None,\n",
       "            min_impurity_decrease=0.0, min_impurity_split=None,\n",
       "            min_samples_leaf=1, min_samples_split=2,\n",
       "            min_weight_fraction_leaf=0.0, presort=False, random_state=None,\n",
       "            splitter='best'),\n",
       "       fit_params=None, iid=True, n_jobs=1,\n",
       "       param_grid={'max_depth': [3, 4, 5], 'max_leaf_nodes': [2, 3, 4], 'min_samples_split': [2, 3, 4, 5, 10, 15, 25], 'max_features': [5, 10, 50, 100, 500]},\n",
       "       pre_dispatch='2*n_jobs', refit=True, return_train_score='warn',\n",
       "       scoring=None, verbose=0)"
      ]
     },
     "execution_count": 78,
     "metadata": {},
     "output_type": "execute_result"
    }
   ],
   "source": [
    "#Gridsearch again for hyperparameters\n",
    "params = {'max_depth':[3,4,5],\n",
    "         'max_leaf_nodes':[2,3,4],\n",
    "         'min_samples_split':[2,3,4,5,10,15,25],\n",
    "         'max_features':[5,10,50,100,500]}\n",
    "dtc_gs = GridSearchCV(DecisionTreeClassifier(), params, cv=5)\n",
    "dtc_gs.fit(X_train, y_train)"
   ]
  },
  {
   "cell_type": "code",
   "execution_count": 79,
   "metadata": {},
   "outputs": [
    {
     "name": "stdout",
     "output_type": "stream",
     "text": [
      "{'max_depth': 3, 'max_features': 100, 'max_leaf_nodes': 4, 'min_samples_split': 25}\n"
     ]
    }
   ],
   "source": [
    "dtc = dtc_gs.best_estimator_\n",
    "print(dtc_gs.best_params_)"
   ]
  },
  {
   "cell_type": "code",
   "execution_count": 80,
   "metadata": {
    "scrolled": true
   },
   "outputs": [
    {
     "name": "stdout",
     "output_type": "stream",
     "text": [
      "model accuracy:  0.4117647058823529\n",
      "baseline accuracy:  0.37037037037037035\n"
     ]
    }
   ],
   "source": [
    "dtc_pred = dtc.predict(X_test)\n",
    "dtc_score = dtc.score(X_test, y_test)\n",
    "print('model accuracy: ', dtc.score(X_test, y_test))\n",
    "print('baseline accuracy: ', baseline)"
   ]
  },
  {
   "cell_type": "code",
   "execution_count": 81,
   "metadata": {},
   "outputs": [
    {
     "data": {
      "text/plain": [
       "<matplotlib.axes._subplots.AxesSubplot at 0x21c540ceeb8>"
      ]
     },
     "execution_count": 81,
     "metadata": {},
     "output_type": "execute_result"
    },
    {
     "data": {
      "image/png": "[encoded data removed]",
      "text/plain": [
       "<Figure size 432x288 with 2 Axes>"
      ]
     },
     "metadata": {},
     "output_type": "display_data"
    }
   ],
   "source": [
    "cm1 = confusion_matrix(y_test, dtc_pred)\n",
    "sns.heatmap(cm1, annot=True, fmt = '.1f', cmap = 'Blues', vmax = 30, vmin = 0, \n",
    "            xticklabels = ['Predicted Low','Predicted Medium','Predicted High'], \n",
    "            yticklabels = ['Actual Low', 'Actual Medium', 'Actual High'])"
   ]
  },
  {
   "cell_type": "code",
   "execution_count": 83,
   "metadata": {},
   "outputs": [
    {
     "data": {
      "text/plain": [
       "BaggingClassifier(base_estimator=DecisionTreeClassifier(class_weight=None, criterion='gini', max_depth=3,\n",
       "            max_features=100, max_leaf_nodes=4, min_impurity_decrease=0.0,\n",
       "            min_impurity_split=None, min_samples_leaf=1,\n",
       "            min_samples_split=25, min_weight_fraction_leaf=0.0,\n",
       "            presort=False, random_state=None, splitter='best'),\n",
       "         bootstrap=True, bootstrap_features=False, max_features=1.0,\n",
       "         max_samples=1.0, n_estimators=10, n_jobs=1, oob_score=False,\n",
       "         random_state=5, verbose=0, warm_start=False)"
      ]
     },
     "execution_count": 83,
     "metadata": {},
     "output_type": "execute_result"
    }
   ],
   "source": [
    "#With bagging\n",
    "bag = BaggingClassifier(dtc, max_samples=1.0,random_state=5)\n",
    "bag.fit(X_train, y_train)"
   ]
  },
  {
   "cell_type": "code",
   "execution_count": 84,
   "metadata": {},
   "outputs": [
    {
     "name": "stdout",
     "output_type": "stream",
     "text": [
      "model accuracy:  0.5735294117647058\n",
      "baseline accuracy:  0.37037037037037035\n"
     ]
    }
   ],
   "source": [
    "bag_pred = bag.predict(X_test)\n",
    "bag_score = bag.score(X_test, y_test)\n",
    "print('model accuracy: ', bag.score(X_test, y_test))\n",
    "print('baseline accuracy: ', baseline)"
   ]
  },
  {
   "cell_type": "code",
   "execution_count": 85,
   "metadata": {},
   "outputs": [
    {
     "name": "stdout",
     "output_type": "stream",
     "text": [
      "             precision    recall  f1-score   support\n",
      "\n",
      "          0       0.76      0.57      0.65        23\n",
      "          1       0.49      0.80      0.61        25\n",
      "          2       0.60      0.30      0.40        20\n",
      "\n",
      "avg / total       0.61      0.57      0.56        68\n",
      "\n"
     ]
    },
    {
     "data": {
      "image/png": "[encoded data removed]",
      "text/plain": [
       "<Figure size 432x288 with 2 Axes>"
      ]
     },
     "metadata": {},
     "output_type": "display_data"
    }
   ],
   "source": [
    "cm1 = confusion_matrix(y_test, bag_pred)\n",
    "sns.heatmap(cm1, annot=True, fmt = '.1f', cmap = 'Blues', vmax = 30, vmin = 0, \n",
    "            xticklabels = ['Predicted Low','Predicted Medium','Predicted High'], \n",
    "            yticklabels = ['Actual Low', 'Actual Medium', 'Actual High'])\n",
    "print(classification_report(y_test,bag_pred))"
   ]
  },
  {
   "cell_type": "code",
   "execution_count": 86,
   "metadata": {},
   "outputs": [
    {
     "name": "stdout",
     "output_type": "stream",
     "text": [
      "{'max_features': 20, 'min_samples_leaf': 1, 'min_samples_split': 25, 'n_estimators': 10}\n"
     ]
    }
   ],
   "source": [
    "rf_params = {'n_estimators': [5,10,15,30,50],\n",
    "            'max_features':[5,20,50,100,250,500],\n",
    "            'min_samples_leaf':[1,5,10],\n",
    "            'min_samples_split':[2,5,20,25]\n",
    "            }\n",
    "\n",
    "rf_gs = GridSearchCV(RandomForestClassifier(), rf_params, cv=5)\n",
    "rf_gs.fit(X_train, y_train)\n",
    "rf = rf_gs.best_estimator_\n",
    "print(rf_gs.best_params_)"
   ]
  },
  {
   "cell_type": "code",
   "execution_count": 87,
   "metadata": {
    "scrolled": true
   },
   "outputs": [
    {
     "name": "stdout",
     "output_type": "stream",
     "text": [
      "model accuracy:  0.45588235294117646\n",
      "baseline accuracy:  0.37037037037037035\n"
     ]
    }
   ],
   "source": [
    "rf_pred = rf.predict(X_test)\n",
    "rf_score = rf.score(X_test, y_test)\n",
    "print('model accuracy: ', rf.score(X_test, y_test))\n",
    "print('baseline accuracy: ', baseline)"
   ]
  },
  {
   "cell_type": "code",
   "execution_count": 88,
   "metadata": {},
   "outputs": [
    {
     "name": "stdout",
     "output_type": "stream",
     "text": [
      "             precision    recall  f1-score   support\n",
      "\n",
      "          0       0.48      0.52      0.50        23\n",
      "          1       0.48      0.44      0.46        25\n",
      "          2       0.40      0.40      0.40        20\n",
      "\n",
      "avg / total       0.46      0.46      0.46        68\n",
      "\n"
     ]
    },
    {
     "data": {
      "image/png": "[encoded data removed]",
      "text/plain": [
       "<Figure size 432x288 with 2 Axes>"
      ]
     },
     "metadata": {},
     "output_type": "display_data"
    }
   ],
   "source": [
    "cm1 = confusion_matrix(y_test, rf_pred)\n",
    "sns.heatmap(cm1, annot=True, fmt = '.1f', cmap = 'Blues', vmax = 30, vmin = 0, \n",
    "            xticklabels = ['Predicted Low','Predicted Medium','Predicted High'], \n",
    "            yticklabels = ['Actual Low', 'Actual Medium', 'Actual High'])\n",
    "print(classification_report(y_test,rf_pred))"
   ]
  },
  {
   "cell_type": "markdown",
   "metadata": {},
   "source": [
    "### <a id='3.5.5'>3.5.5 Classification model summary</a>"
   ]
  },
  {
   "cell_type": "code",
   "execution_count": 89,
   "metadata": {},
   "outputs": [],
   "source": [
    "models = ['KNN','SVM','DecisionTree','Bagging','RandomForest','Baseline']\n",
    "accuracy = [knn_score, svm_score, dtc_score, bag_score,rf_score, baseline]\n",
    "class_summary = pd.DataFrame({'Model':models, 'Accuracy':accuracy})\n",
    "class_summary = class_summary.set_index('Model')"
   ]
  },
  {
   "cell_type": "code",
   "execution_count": 90,
   "metadata": {
    "scrolled": false
   },
   "outputs": [
    {
     "data": {
      "text/html": [
       "<div>\n",
       "<style scoped>\n",
       "    .dataframe tbody tr th:only-of-type {\n",
       "        vertical-align: middle;\n",
       "    }\n",
       "\n",
       "    .dataframe tbody tr th {\n",
       "        vertical-align: top;\n",
       "    }\n",
       "\n",
       "    .dataframe thead th {\n",
       "        text-align: right;\n",
       "    }\n",
       "</style>\n",
       "<table border=\"1\" class=\"dataframe\">\n",
       "  <thead>\n",
       "    <tr style=\"text-align: right;\">\n",
       "      <th></th>\n",
       "      <th>Accuracy</th>\n",
       "    </tr>\n",
       "    <tr>\n",
       "      <th>Model</th>\n",
       "      <th></th>\n",
       "    </tr>\n",
       "  </thead>\n",
       "  <tbody>\n",
       "    <tr>\n",
       "      <th>KNN</th>\n",
       "      <td>0.397059</td>\n",
       "    </tr>\n",
       "    <tr>\n",
       "      <th>SVM</th>\n",
       "      <td>0.647059</td>\n",
       "    </tr>\n",
       "    <tr>\n",
       "      <th>DecisionTree</th>\n",
       "      <td>0.411765</td>\n",
       "    </tr>\n",
       "    <tr>\n",
       "      <th>Bagging</th>\n",
       "      <td>0.573529</td>\n",
       "    </tr>\n",
       "    <tr>\n",
       "      <th>RandomForest</th>\n",
       "      <td>0.455882</td>\n",
       "    </tr>\n",
       "    <tr>\n",
       "      <th>Baseline</th>\n",
       "      <td>0.370370</td>\n",
       "    </tr>\n",
       "  </tbody>\n",
       "</table>\n",
       "</div>"
      ],
      "text/plain": [
       "              Accuracy\n",
       "Model                 \n",
       "KNN           0.397059\n",
       "SVM           0.647059\n",
       "DecisionTree  0.411765\n",
       "Bagging       0.573529\n",
       "RandomForest  0.455882\n",
       "Baseline      0.370370"
      ]
     },
     "execution_count": 90,
     "metadata": {},
     "output_type": "execute_result"
    }
   ],
   "source": [
    "class_summary"
   ]
  },
  {
   "cell_type": "markdown",
   "metadata": {},
   "source": [
    "Support vector machines achieved the highest accuracy, with an ensemble bagging classifier achieving the second-highest accuracy. All of the classification models peformed better than baseline, although KNN only performed marginally better.\n",
    "\n",
    "Unforunately, there is no simple way to extract feature weights or importances for either svm ('rbf' kernel was used so coefficients can't be extracted) or bagging classifier. The random forest model was the next most accurate so I will look at the feature importances from this model."
   ]
  },
  {
   "cell_type": "code",
   "execution_count": 106,
   "metadata": {},
   "outputs": [
    {
     "data": {
      "text/html": [
       "<div>\n",
       "<style scoped>\n",
       "    .dataframe tbody tr th:only-of-type {\n",
       "        vertical-align: middle;\n",
       "    }\n",
       "\n",
       "    .dataframe tbody tr th {\n",
       "        vertical-align: top;\n",
       "    }\n",
       "\n",
       "    .dataframe thead th {\n",
       "        text-align: right;\n",
       "    }\n",
       "</style>\n",
       "<table border=\"1\" class=\"dataframe\">\n",
       "  <thead>\n",
       "    <tr style=\"text-align: right;\">\n",
       "      <th></th>\n",
       "      <th>feature</th>\n",
       "      <th>importance</th>\n",
       "    </tr>\n",
       "  </thead>\n",
       "  <tbody>\n",
       "    <tr>\n",
       "      <th>80</th>\n",
       "      <td>kw_technolog</td>\n",
       "      <td>0.072559</td>\n",
       "    </tr>\n",
       "    <tr>\n",
       "      <th>523</th>\n",
       "      <td>kw_organisation</td>\n",
       "      <td>0.039502</td>\n",
       "    </tr>\n",
       "    <tr>\n",
       "      <th>11</th>\n",
       "      <td>title_learning</td>\n",
       "      <td>0.039368</td>\n",
       "    </tr>\n",
       "    <tr>\n",
       "      <th>56</th>\n",
       "      <td>kw_model</td>\n",
       "      <td>0.035691</td>\n",
       "    </tr>\n",
       "    <tr>\n",
       "      <th>99</th>\n",
       "      <td>kw_scientist</td>\n",
       "      <td>0.032832</td>\n",
       "    </tr>\n",
       "    <tr>\n",
       "      <th>555</th>\n",
       "      <td>kw_head</td>\n",
       "      <td>0.026365</td>\n",
       "    </tr>\n",
       "    <tr>\n",
       "      <th>166</th>\n",
       "      <td>kw_degre</td>\n",
       "      <td>0.025976</td>\n",
       "    </tr>\n",
       "    <tr>\n",
       "      <th>233</th>\n",
       "      <td>kw_transform</td>\n",
       "      <td>0.025120</td>\n",
       "    </tr>\n",
       "    <tr>\n",
       "      <th>291</th>\n",
       "      <td>kw_end</td>\n",
       "      <td>0.021645</td>\n",
       "    </tr>\n",
       "    <tr>\n",
       "      <th>194</th>\n",
       "      <td>kw_flexibl</td>\n",
       "      <td>0.020395</td>\n",
       "    </tr>\n",
       "  </tbody>\n",
       "</table>\n",
       "</div>"
      ],
      "text/plain": [
       "             feature  importance\n",
       "80      kw_technolog    0.072559\n",
       "523  kw_organisation    0.039502\n",
       "11    title_learning    0.039368\n",
       "56          kw_model    0.035691\n",
       "99      kw_scientist    0.032832\n",
       "555          kw_head    0.026365\n",
       "166         kw_degre    0.025976\n",
       "233     kw_transform    0.025120\n",
       "291           kw_end    0.021645\n",
       "194       kw_flexibl    0.020395"
      ]
     },
     "execution_count": 106,
     "metadata": {},
     "output_type": "execute_result"
    }
   ],
   "source": [
    "importance = rf.feature_importances_\n",
    "importance_df = pd.DataFrame({'feature':X.columns, 'importance':importance}).sort_values('importance', ascending= False)\n",
    "importance_df.head(10)"
   ]
  },
  {
   "cell_type": "markdown",
   "metadata": {},
   "source": [
    "Both 'learning' in the job title and 'model' in the job summary appear to be important for classifying the salary level of the job, suggesting that carrying out machine learning and modelling affects the level of pay. 'Scientist' also appears in the list, suggesting that perhaps data scientist jobs (where one would likely be doing more machine learning) are typically in a different pay grade to other jobs. The keyword 'head' also appears, unsurprisingly, suggesting that leadership positions also have an impact on salary class."
   ]
  },
  {
   "cell_type": "markdown",
   "metadata": {},
   "source": [
    "## <a id='3.6'>3.6 Imputing values for full dataset</a>"
   ]
  },
  {
   "cell_type": "markdown",
   "metadata": {},
   "source": [
    "Since a large number of rows in my original dataset were missing information for the salary, I can use the models above to attempt to impute values. One caveat here is that I am attempting to impute values to a large number of rows using models built on only a small minority of the total rows. Furthermore, none of my models achieved above 64% accuracy, so a large number of the predicted rows can be expected to be incorrect. While I will still go ahead and impute this data, I may elect to drop these variables in future modelling."
   ]
  },
  {
   "cell_type": "code",
   "execution_count": 91,
   "metadata": {},
   "outputs": [],
   "source": [
    "#Imputing mean salary using linear regression.\n",
    "#Define null-value predictors\n",
    "null_salary = jobs[jobs['salary_mean'].isnull()==True]\n",
    "Xnull = null_salary.iloc[:,7:]\n",
    "dropcols = ['title_machine','kw_machin','kw_environment']\n",
    "Xnull.drop(dropcols, axis=1, inplace=True)\n",
    "Xnull_sub = Xnull[rfesupported.feature]"
   ]
  },
  {
   "cell_type": "code",
   "execution_count": 92,
   "metadata": {},
   "outputs": [
    {
     "name": "stderr",
     "output_type": "stream",
     "text": [
      "C:\\Users\\Chris\\Anaconda3\\lib\\site-packages\\sklearn\\linear_model\\coordinate_descent.py:491: ConvergenceWarning: Objective did not converge. You might want to increase the number of iterations. Fitting data with very small alpha may cause precision problems.\n",
      "  ConvergenceWarning)\n",
      "C:\\Users\\Chris\\Anaconda3\\lib\\site-packages\\sklearn\\linear_model\\coordinate_descent.py:491: ConvergenceWarning: Objective did not converge. You might want to increase the number of iterations. Fitting data with very small alpha may cause precision problems.\n",
      "  ConvergenceWarning)\n"
     ]
    },
    {
     "data": {
      "text/plain": [
       "ElasticNet(alpha=0.0017575209404221389, copy_X=True, fit_intercept=True,\n",
       "      l1_ratio=0.17500000000000002, max_iter=1000, normalize=False,\n",
       "      positive=False, precompute=False, random_state=None,\n",
       "      selection='cyclic', tol=0.0001, warm_start=False)"
      ]
     },
     "execution_count": 92,
     "metadata": {},
     "output_type": "execute_result"
    }
   ],
   "source": [
    "#Predict mean salary using elastic net regression model\n",
    "l1_ratios = np.linspace(0.01, 1.0, 25)\n",
    "elasticnet = ElasticNetCV(l1_ratio = l1_ratios,n_alphas = 200, cv=10)\n",
    "elasticnet.fit(Xsub_train,y_train)\n",
    "optimalenet = ElasticNet(alpha = elasticnet.alpha_, l1_ratio = elasticnet.l1_ratio_)\n",
    "optimalenet.fit(Xsub_train, y_train)"
   ]
  },
  {
   "cell_type": "code",
   "execution_count": 93,
   "metadata": {},
   "outputs": [],
   "source": [
    "predicted = optimalenet.predict(Xnull_sub)"
   ]
  },
  {
   "cell_type": "code",
   "execution_count": 94,
   "metadata": {},
   "outputs": [
    {
     "name": "stderr",
     "output_type": "stream",
     "text": [
      "C:\\Users\\Chris\\Anaconda3\\lib\\site-packages\\ipykernel_launcher.py:2: SettingWithCopyWarning: \n",
      "A value is trying to be set on a copy of a slice from a DataFrame.\n",
      "Try using .loc[row_indexer,col_indexer] = value instead\n",
      "\n",
      "See the caveats in the documentation: http://pandas.pydata.org/pandas-docs/stable/indexing.html#indexing-view-versus-copy\n",
      "  \n"
     ]
    }
   ],
   "source": [
    "#Impute these values to the mean salary column\n",
    "null_salary['salary_mean'] = predicted*100000"
   ]
  },
  {
   "cell_type": "code",
   "execution_count": 95,
   "metadata": {},
   "outputs": [],
   "source": [
    "#Predict salary classes using bag ensemble model\n",
    "predicted_class = svm_best.predict(Xnull)"
   ]
  },
  {
   "cell_type": "code",
   "execution_count": 96,
   "metadata": {},
   "outputs": [
    {
     "name": "stderr",
     "output_type": "stream",
     "text": [
      "C:\\Users\\Chris\\Anaconda3\\lib\\site-packages\\ipykernel_launcher.py:2: SettingWithCopyWarning: \n",
      "A value is trying to be set on a copy of a slice from a DataFrame.\n",
      "Try using .loc[row_indexer,col_indexer] = value instead\n",
      "\n",
      "See the caveats in the documentation: http://pandas.pydata.org/pandas-docs/stable/indexing.html#indexing-view-versus-copy\n",
      "  \n"
     ]
    },
    {
     "data": {
      "text/plain": [
       "0    610\n",
       "Name: salary_class, dtype: int64"
      ]
     },
     "execution_count": 96,
     "metadata": {},
     "output_type": "execute_result"
    }
   ],
   "source": [
    "#Impute to data frame\n",
    "null_salary['salary_class'] = predicted_class\n",
    "null_salary['salary_class'].value_counts()\n",
    "#This is just applying one class to everything. This will not be useful for clustering and will likely be dropped."
   ]
  },
  {
   "cell_type": "code",
   "execution_count": 97,
   "metadata": {},
   "outputs": [],
   "source": [
    "#Concatenate these with the rows that had pre-existing salary information to form a full dataset.\n",
    "jobs_full = pd.concat([null_salary, jobs_subset])\n",
    "jobs_full.set_index('index', inplace=True)"
   ]
  },
  {
   "cell_type": "code",
   "execution_count": 98,
   "metadata": {},
   "outputs": [
    {
     "data": {
      "text/html": [
       "<div>\n",
       "<style scoped>\n",
       "    .dataframe tbody tr th:only-of-type {\n",
       "        vertical-align: middle;\n",
       "    }\n",
       "\n",
       "    .dataframe tbody tr th {\n",
       "        vertical-align: top;\n",
       "    }\n",
       "\n",
       "    .dataframe thead th {\n",
       "        text-align: right;\n",
       "    }\n",
       "</style>\n",
       "<table border=\"1\" class=\"dataframe\">\n",
       "  <thead>\n",
       "    <tr style=\"text-align: right;\">\n",
       "      <th></th>\n",
       "      <th>title</th>\n",
       "      <th>company</th>\n",
       "      <th>salary_low</th>\n",
       "      <th>salary_high</th>\n",
       "      <th>salary_mean</th>\n",
       "      <th>title_analyst</th>\n",
       "      <th>title_data</th>\n",
       "      <th>title_scientist</th>\n",
       "      <th>title_business</th>\n",
       "      <th>title_senior</th>\n",
       "      <th>...</th>\n",
       "      <th>skill_spark</th>\n",
       "      <th>skill_hadoop</th>\n",
       "      <th>skill_tableau</th>\n",
       "      <th>skill_r</th>\n",
       "      <th>skill_excel</th>\n",
       "      <th>skill_sas</th>\n",
       "      <th>skill_spss</th>\n",
       "      <th>skill_aws</th>\n",
       "      <th>skill_kafka</th>\n",
       "      <th>salary_class</th>\n",
       "    </tr>\n",
       "    <tr>\n",
       "      <th>index</th>\n",
       "      <th></th>\n",
       "      <th></th>\n",
       "      <th></th>\n",
       "      <th></th>\n",
       "      <th></th>\n",
       "      <th></th>\n",
       "      <th></th>\n",
       "      <th></th>\n",
       "      <th></th>\n",
       "      <th></th>\n",
       "      <th></th>\n",
       "      <th></th>\n",
       "      <th></th>\n",
       "      <th></th>\n",
       "      <th></th>\n",
       "      <th></th>\n",
       "      <th></th>\n",
       "      <th></th>\n",
       "      <th></th>\n",
       "      <th></th>\n",
       "      <th></th>\n",
       "    </tr>\n",
       "  </thead>\n",
       "  <tbody>\n",
       "    <tr>\n",
       "      <th>0</th>\n",
       "      <td>Data Engineer</td>\n",
       "      <td>Telstra</td>\n",
       "      <td>NaN</td>\n",
       "      <td>NaN</td>\n",
       "      <td>93703.231744</td>\n",
       "      <td>0.000000</td>\n",
       "      <td>0.489781</td>\n",
       "      <td>0.000000</td>\n",
       "      <td>0.0</td>\n",
       "      <td>0.0</td>\n",
       "      <td>...</td>\n",
       "      <td>1</td>\n",
       "      <td>0</td>\n",
       "      <td>0</td>\n",
       "      <td>1</td>\n",
       "      <td>0</td>\n",
       "      <td>0</td>\n",
       "      <td>0</td>\n",
       "      <td>0</td>\n",
       "      <td>1</td>\n",
       "      <td>0</td>\n",
       "    </tr>\n",
       "    <tr>\n",
       "      <th>1</th>\n",
       "      <td>Junior Data Analyst/Scientist</td>\n",
       "      <td>International Institute of Data &amp; Analytics</td>\n",
       "      <td>NaN</td>\n",
       "      <td>NaN</td>\n",
       "      <td>96583.608818</td>\n",
       "      <td>0.268433</td>\n",
       "      <td>0.339808</td>\n",
       "      <td>0.475133</td>\n",
       "      <td>0.0</td>\n",
       "      <td>0.0</td>\n",
       "      <td>...</td>\n",
       "      <td>0</td>\n",
       "      <td>0</td>\n",
       "      <td>0</td>\n",
       "      <td>1</td>\n",
       "      <td>1</td>\n",
       "      <td>1</td>\n",
       "      <td>0</td>\n",
       "      <td>0</td>\n",
       "      <td>0</td>\n",
       "      <td>0</td>\n",
       "    </tr>\n",
       "    <tr>\n",
       "      <th>2</th>\n",
       "      <td>Data Scientist</td>\n",
       "      <td>Nearmap - AU</td>\n",
       "      <td>NaN</td>\n",
       "      <td>NaN</td>\n",
       "      <td>94339.846850</td>\n",
       "      <td>0.000000</td>\n",
       "      <td>0.581723</td>\n",
       "      <td>0.813387</td>\n",
       "      <td>0.0</td>\n",
       "      <td>0.0</td>\n",
       "      <td>...</td>\n",
       "      <td>0</td>\n",
       "      <td>0</td>\n",
       "      <td>0</td>\n",
       "      <td>1</td>\n",
       "      <td>0</td>\n",
       "      <td>0</td>\n",
       "      <td>0</td>\n",
       "      <td>0</td>\n",
       "      <td>0</td>\n",
       "      <td>0</td>\n",
       "    </tr>\n",
       "    <tr>\n",
       "      <th>3</th>\n",
       "      <td>Data Scientist</td>\n",
       "      <td>nbn™</td>\n",
       "      <td>NaN</td>\n",
       "      <td>NaN</td>\n",
       "      <td>95988.998849</td>\n",
       "      <td>0.000000</td>\n",
       "      <td>0.581723</td>\n",
       "      <td>0.813387</td>\n",
       "      <td>0.0</td>\n",
       "      <td>0.0</td>\n",
       "      <td>...</td>\n",
       "      <td>0</td>\n",
       "      <td>0</td>\n",
       "      <td>0</td>\n",
       "      <td>1</td>\n",
       "      <td>1</td>\n",
       "      <td>0</td>\n",
       "      <td>0</td>\n",
       "      <td>0</td>\n",
       "      <td>0</td>\n",
       "      <td>0</td>\n",
       "    </tr>\n",
       "    <tr>\n",
       "      <th>4</th>\n",
       "      <td>Data Scientist</td>\n",
       "      <td>ResMed</td>\n",
       "      <td>NaN</td>\n",
       "      <td>NaN</td>\n",
       "      <td>95722.169606</td>\n",
       "      <td>0.000000</td>\n",
       "      <td>0.581723</td>\n",
       "      <td>0.813387</td>\n",
       "      <td>0.0</td>\n",
       "      <td>0.0</td>\n",
       "      <td>...</td>\n",
       "      <td>0</td>\n",
       "      <td>0</td>\n",
       "      <td>0</td>\n",
       "      <td>1</td>\n",
       "      <td>1</td>\n",
       "      <td>0</td>\n",
       "      <td>0</td>\n",
       "      <td>0</td>\n",
       "      <td>0</td>\n",
       "      <td>0</td>\n",
       "    </tr>\n",
       "  </tbody>\n",
       "</table>\n",
       "<p>5 rows × 5056 columns</p>\n",
       "</div>"
      ],
      "text/plain": [
       "                               title  \\\n",
       "index                                  \n",
       "0                      Data Engineer   \n",
       "1      Junior Data Analyst/Scientist   \n",
       "2                     Data Scientist   \n",
       "3                     Data Scientist   \n",
       "4                     Data Scientist   \n",
       "\n",
       "                                           company  salary_low  salary_high  \\\n",
       "index                                                                         \n",
       "0                                          Telstra         NaN          NaN   \n",
       "1      International Institute of Data & Analytics         NaN          NaN   \n",
       "2                                     Nearmap - AU         NaN          NaN   \n",
       "3                                             nbn™         NaN          NaN   \n",
       "4                                           ResMed         NaN          NaN   \n",
       "\n",
       "        salary_mean  title_analyst  title_data  title_scientist  \\\n",
       "index                                                             \n",
       "0      93703.231744       0.000000    0.489781         0.000000   \n",
       "1      96583.608818       0.268433    0.339808         0.475133   \n",
       "2      94339.846850       0.000000    0.581723         0.813387   \n",
       "3      95988.998849       0.000000    0.581723         0.813387   \n",
       "4      95722.169606       0.000000    0.581723         0.813387   \n",
       "\n",
       "       title_business  title_senior      ...       skill_spark  skill_hadoop  \\\n",
       "index                                    ...                                   \n",
       "0                 0.0           0.0      ...                 1             0   \n",
       "1                 0.0           0.0      ...                 0             0   \n",
       "2                 0.0           0.0      ...                 0             0   \n",
       "3                 0.0           0.0      ...                 0             0   \n",
       "4                 0.0           0.0      ...                 0             0   \n",
       "\n",
       "       skill_tableau  skill_r  skill_excel  skill_sas  skill_spss  skill_aws  \\\n",
       "index                                                                          \n",
       "0                  0        1            0          0           0          0   \n",
       "1                  0        1            1          1           0          0   \n",
       "2                  0        1            0          0           0          0   \n",
       "3                  0        1            1          0           0          0   \n",
       "4                  0        1            1          0           0          0   \n",
       "\n",
       "       skill_kafka  salary_class  \n",
       "index                             \n",
       "0                1             0  \n",
       "1                0             0  \n",
       "2                0             0  \n",
       "3                0             0  \n",
       "4                0             0  \n",
       "\n",
       "[5 rows x 5056 columns]"
      ]
     },
     "execution_count": 98,
     "metadata": {},
     "output_type": "execute_result"
    }
   ],
   "source": [
    "jobs_full.head()"
   ]
  },
  {
   "cell_type": "code",
   "execution_count": 99,
   "metadata": {},
   "outputs": [],
   "source": [
    "#Export to a .csv file for use in question 2\n",
    "filename = 'jobs_full.csv'\n",
    "jobs_full.to_csv(filename)"
   ]
  }
 ],
 "metadata": {
  "kernelspec": {
   "display_name": "Python 3",
   "language": "python",
   "name": "python3"
  },
  "language_info": {
   "codemirror_mode": {
    "name": "ipython",
    "version": 3
   },
   "file_extension": ".py",
   "mimetype": "text/x-python",
   "name": "python",
   "nbconvert_exporter": "python",
   "pygments_lexer": "ipython3",
   "version": "3.6.5"
  }
 },
 "nbformat": 4,
 "nbformat_minor": 2
}
