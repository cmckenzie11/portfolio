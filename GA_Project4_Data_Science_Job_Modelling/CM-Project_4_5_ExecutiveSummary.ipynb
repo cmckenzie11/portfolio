{
 "cells": [
  {
   "cell_type": "markdown",
   "metadata": {},
   "source": [
    "# Project 4 - Part 5: Executive Summary"
   ]
  },
  {
   "cell_type": "markdown",
   "metadata": {},
   "source": [
    "### Problem statement:"
   ]
  },
  {
   "cell_type": "markdown",
   "metadata": {},
   "source": [
    "Data science is a rapidly expanding field and the hiring market is increasingly competitive as more companies start to realise the potential of data science enhance their performance and agility in the modern market. As a rapidly expanding firm that aims to provide cutting-edge technology solutions to our clients, it is critical that we attract the best and brightest data scientists as we grow.\n",
    "\n",
    "To remain competitive in the hiring market, this study aimed to understand what factors influence salaries for data scientist roles across different sectors. Futhermore, we aimed to determine what distinguishes data scientist roles from other data-related roles such as data analyst and data engineer. This includes what skills recruiters are looking for in data scientist and the ways in which these roles are advertised."
   ]
  },
  {
   "cell_type": "markdown",
   "metadata": {},
   "source": [
    "### Approach:"
   ]
  },
  {
   "cell_type": "markdown",
   "metadata": {},
   "source": [
    "Data was collected from job aggregator site indeed.com. Job title, company name, location and job summary text was extracted for a total of 745 unique job listings. Keywords were extracted from both the job title and job summary fields by generating a score based on how frequently the word appeared in each job listing compared to the others. All words included in the job title were used while the 5000 words with the highest average score from the job summary were selected. Jobs were also classified by state and also classified by whether or not the summary included keywords for specific skills manually selected based on industry knowledge. Finally, salary information was extracted where possible, calculating the mean salary from the salary range advertised. One limitation of the data collection process was that only a minority of the listed jobs contained explicit salary information, with only 135 of the jobs listing salary information. Overall, we extracted 5055 features that descibe each job\n",
    "\n",
    "To address the question of what factors influence data scientist salaries, two approaches were taken. The first was to construct a linear model to predict mean salary based on our extracted features. The second was to classify job listings into low (<80000 AUD p.a.) medium (between 80000 and 120000 AUD p.a.) and high (> 120000 AUD p.a.) salaries and build a classification model to predict what salary class a given job will fall into. From this we can determine the features that have the greatest impact on salary.\n",
    "\n",
    "To address the factors that distinguish data science roles from similar roles, we constructed a classification model to predict whether a given job is a data scientist job, a data analyst job or a data engineer job."
   ]
  },
  {
   "cell_type": "markdown",
   "metadata": {},
   "source": [
    "### Findings:"
   ]
  },
  {
   "cell_type": "markdown",
   "metadata": {},
   "source": [
    "#### What factors influence salary for data scientists?\n",
    "We were able to construct a linear model to estimate mean salary that performed approximately 40% better than a naive estimate. When we extract the features that have the biggest influence on predicted salary, we found that industry sector was an important factor with job listings that contained words suggesting the financial and business enterprise sectors offer higher salaries. Research and academic fields were associated with lower salary. Shorter-term contracts were also associated with lower salary and are likely to be less attractive to the best candidates.\n",
    "\n",
    "Our best classification model was able to correctly sort jobs into low/medium/high-salary categories with 57% accuracy, which is roughly 20% better than a baseline estimate. This model found that data scientist-specific skills such as machine learning and modelling were important predictors of salary level. Leadership roles also attracted a higher salary level."
   ]
  },
  {
   "cell_type": "markdown",
   "metadata": {},
   "source": [
    "#### What factors differentiate data scientists from other roles?\n",
    "We were able to classify data scientist, data analyst and data engineer roles with 85% accuracy, approximately 15% better than baseline. This model found that data scientist roles are distinguished by the desired skills, particularly familiarity with coding languages like Python and big data platforms such as Spark. As above, machine learning skills as well as higher postgraduate qualifications are also associated with data scientist roles."
   ]
  },
  {
   "cell_type": "markdown",
   "metadata": {},
   "source": [
    "### Conclusions:\n",
    "\n",
    "Our modelling suggests that important factors to consider when entering salary negotiations include knowledge of typical salary within our specific industry sector and whether the role on offer will involve machine learning and modelling. In order to attract higher-level candidates, offering longer-term contracts may perform better than short-term ones. We also found that critical skills to look for in a data scientist include Python, Spark and machine learning skills, with university qualifications potentially being desirable as well."
   ]
  }
 ],
 "metadata": {
  "kernelspec": {
   "display_name": "Python 3",
   "language": "python",
   "name": "python3"
  },
  "language_info": {
   "codemirror_mode": {
    "name": "ipython",
    "version": 3
   },
   "file_extension": ".py",
   "mimetype": "text/x-python",
   "name": "python",
   "nbconvert_exporter": "python",
   "pygments_lexer": "ipython3",
   "version": "3.6.5"
  }
 },
 "nbformat": 4,
 "nbformat_minor": 2
}
