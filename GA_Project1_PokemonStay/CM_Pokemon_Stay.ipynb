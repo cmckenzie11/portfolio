{
 "cells": [
  {
   "cell_type": "markdown",
   "metadata": {},
   "source": [
    "<img src=\"http://imgur.com/1ZcRyrc.png\" style=\"float: left; margin: 15px; height: 80px\">\n",
    "\n",
    "# Project 1\n",
    "\n",
    "### Building \"Pokemon Stay\"\n",
    "\n",
    "---\n",
    "You are an analyst at a \"scrappy\" online gaming company that specializes in remakes of last year's fads.\n",
    "\n",
    "Your boss, who runs the product development team, is convinced that Pokemon Go's fatal flaw was that you had to actually move around outside. She has design mock-ups for a new game called Pokemon Stay: in this version players still need to move, but just from website to website. Pokemon gyms are now popular online destinations, and catching Pokemon in the \"wild\" simply requires browsing the internet for hours in the comfort of your home.\n",
    "\n",
    "She wants you to program a prototype version of the game, and analyze the planned content to help the team calibrate the design."
   ]
  },
  {
   "cell_type": "markdown",
   "metadata": {},
   "source": [
    "#### Package imports\n",
    "\n",
    "The pprint package below is the only package imported here, and it's not even strictly required to do any of the project. Printing python variables and objects with pprint can help to format them in a \"prettier\" way."
   ]
  },
  {
   "cell_type": "code",
   "execution_count": 1,
   "metadata": {},
   "outputs": [],
   "source": [
    "from pprint import pprint"
   ]
  },
  {
   "cell_type": "markdown",
   "metadata": {},
   "source": [
    "<img src=\"http://imgur.com/l5NasQj.png\" style=\"float: left; margin: 25px 15px 0px 0px; height: 25px\">\n",
    "\n",
    "## 1. Defining a player\n",
    "\n",
    "---\n",
    "\n",
    "The player variables are:\n",
    "\n",
    "    player_id : id code unique to each player (integer)\n",
    "    player_name : entered name of the player (string)\n",
    "    time_played : number of time played the game in minutes (float)\n",
    "    player_pokemon: the player's captured pokemon (dictionary)\n",
    "    gyms_visited: ids of the gyms that a player has visited (list)\n",
    "    \n",
    "Create the components for a player object by defining each of these variables. The dictionary and list variables should just be defined as empty; you can use any (correctly typed) values for the others."
   ]
  },
  {
   "cell_type": "code",
   "execution_count": 2,
   "metadata": {},
   "outputs": [],
   "source": [
    "player_id = 1\n",
    "player_name = 'Chris'\n",
    "time_played = 2.5\n",
    "player_pokemon = {}\n",
    "gyms_visited = []"
   ]
  },
  {
   "cell_type": "markdown",
   "metadata": {},
   "source": [
    "<img src=\"http://imgur.com/l5NasQj.png\" style=\"float: left; margin: 25px 15px 0px 0px; height: 25px\">\n",
    "\n",
    "## 2. Defining \"gym\" locations\n",
    "\n",
    "---\n",
    "\n",
    "As the sole programmer, Pokemon Stay will have to start small. To begin, there will be 10 different gym location websites on the internet. The gym locations are:\n",
    "\n",
    "    1. 'reddit.com'\n",
    "    2. 'amazon.com'\n",
    "    3. 'twitter.com'\n",
    "    4. 'linkedin.com'\n",
    "    5. 'ebay.com'\n",
    "    6. 'netflix.com'\n",
    "    7. 'amazon.com'\n",
    "    8. 'stackoverflow.com'\n",
    "    9. 'github.com'\n",
    "    10. 'quora.com'\n",
    "\n",
    "1. Set up a list of all the gym locations. This will be a list of strings.\n",
    "2. Append two of these locations to your player's list of visited gyms.\n",
    "3. Print the list."
   ]
  },
  {
   "cell_type": "code",
   "execution_count": 3,
   "metadata": {},
   "outputs": [
    {
     "name": "stdout",
     "output_type": "stream",
     "text": [
      "['reddit.com', 'twitter.com']\n"
     ]
    }
   ],
   "source": [
    "#Set up list of gym locations\n",
    "pokemon_gyms = ['reddit.com','amazon.com','twitter.com','linkedin.com','ebay.com','netflix.com','amazon.com','stackoverflow.com', 'github.com', 'quora.com']\n",
    "\n",
    "#Append two to my player's list of visited gyms\n",
    "gyms_visited.append(pokemon_gyms[0])\n",
    "gyms_visited.append(pokemon_gyms[2])\n",
    "\n",
    "#Print the list\n",
    "print(gyms_visited)"
   ]
  },
  {
   "cell_type": "markdown",
   "metadata": {},
   "source": [
    "<img src=\"http://imgur.com/l5NasQj.png\" style=\"float: left; margin: 25px 15px 0px 0px; height: 25px\">\n",
    "\n",
    "## 3. Create a pokedex\n",
    "\n",
    "---\n",
    "\n",
    "We also need to create some pokemon to catch. Each pokemon will be defined by these variables:\n",
    "\n",
    "    pokemon_id : unique identifier for each pokemon (integer)\n",
    "    name : the name of the pokemon (string)\n",
    "    type : the category of pokemon (string)\n",
    "    hp : base hitpoints (integer)\n",
    "    attack : base attack (integer)\n",
    "    defense : base defense (integer)\n",
    "    special_attack : base special attack (integer)\n",
    "    special_defense : base sepecial defense (integer)\n",
    "    speed : base speed (integer)\n",
    "\n",
    "We are only going to create 3 different pokemon with these `pokemon_id` and `pokemon_name` values:\n",
    "\n",
    "    1 : 'charmander'\n",
    "    2 : 'squirtle'\n",
    "    3 : 'bulbasaur'\n",
    "\n",
    "Create a dictionary that will contain the pokemon. The keys of the dictionary will be the `pokemon_id` and the values will themselves dictionaries that contain the other pokemon variables. The structure of the pokedex dictionary will start like so:\n",
    "     \n",
    "     {\n",
    "         1: {\n",
    "                 'name':'charmander',\n",
    "                 'type':'fire',\n",
    "                 ...\n",
    "                 \n",
    "The `type` of charmander, squirtle, and bulbasaur should be `'fire'`, `'water'`, and `'poison'` respectively. The other values are up to you, make them anything you like!\n",
    "\n",
    "Print (or pretty print) the pokedex dictionary with the 3 pokemon."
   ]
  },
  {
   "cell_type": "code",
   "execution_count": 4,
   "metadata": {
    "scrolled": true
   },
   "outputs": [
    {
     "name": "stdout",
     "output_type": "stream",
     "text": [
      "{1: {'attack': 12,\n",
      "     'defense': 10,\n",
      "     'hp': 60,\n",
      "     'name': 'charmander',\n",
      "     'special_attack': 15,\n",
      "     'special_defense': 10,\n",
      "     'speed': 12,\n",
      "     'type': 'fire'},\n",
      " 2: {'attack': 10,\n",
      "     'defense': 14,\n",
      "     'hp': 80,\n",
      "     'name': 'squirtle',\n",
      "     'special_attack': 15,\n",
      "     'special_defense': 9,\n",
      "     'speed': 9,\n",
      "     'type': 'water'},\n",
      " 3: {'attack': 10,\n",
      "     'defense': 14,\n",
      "     'hp': 70,\n",
      "     'name': 'bulbasaur',\n",
      "     'special_attack': 10,\n",
      "     'special_defense': 15,\n",
      "     'speed': 10,\n",
      "     'type': 'poison'}}\n"
     ]
    }
   ],
   "source": [
    "#Set up ID numbers\n",
    "pokemon_id = [1,2,3]\n",
    "\n",
    "#Define stats\n",
    "keys = ['name','type','hp','attack','defense','special_attack','special_defense','speed']\n",
    "\n",
    "#Specify stats for pokemon\n",
    "charmander = ['charmander','fire',60,12,10,15,10,12]\n",
    "squirtle = ['squirtle','water',80,10,14,15,9,9]\n",
    "bulbasaur = ['bulbasaur','poison',70,10,14,10,15,10]\n",
    "\n",
    "#Make dictionaries for each pokemon and assemble into list\n",
    "charmander_dict = dict(zip(keys, charmander))\n",
    "squirtle_dict = dict(zip(keys, squirtle))\n",
    "bulbasaur_dict = dict(zip(keys, bulbasaur))\n",
    "pokemon_list = [charmander_dict, squirtle_dict, bulbasaur_dict]\n",
    "\n",
    "#Make pokedex\n",
    "pokedex = dict(zip(pokemon_id, pokemon_list))\n",
    "\n",
    "pprint(pokedex)\n"
   ]
  },
  {
   "cell_type": "markdown",
   "metadata": {},
   "source": [
    "<img src=\"http://imgur.com/l5NasQj.png\" style=\"float: left; margin: 25px 15px 0px 0px; height: 25px\">\n",
    "\n",
    "## 4. Create a data structure for players\n",
    "\n",
    "---\n",
    "\n",
    "### 4.1 \n",
    "\n",
    "In order to maintain a database of multiple players, create a dictionary that keeps track of players indexed by `player_id`. \n",
    "\n",
    "The keys of the dictionary will be `player_id` and values will be dictionaries containing each player's variables (from question 1). \n",
    "\n",
    "Construct the `players` dictionary and insert the player that you defined in question 1, then print `players`."
   ]
  },
  {
   "cell_type": "code",
   "execution_count": 5,
   "metadata": {},
   "outputs": [
    {
     "name": "stdout",
     "output_type": "stream",
     "text": [
      "{1: {'player name': 'Chris', 'time played': 2.5, 'player pokemon': {}, 'gyms visited': ['reddit.com', 'twitter.com']}}\n"
     ]
    }
   ],
   "source": [
    "players = {player_id: {'player name': player_name, 'time played': time_played, 'player pokemon': player_pokemon, 'gyms visited' \n",
    "                       :gyms_visited}}\n",
    "print(players)"
   ]
  },
  {
   "cell_type": "markdown",
   "metadata": {},
   "source": [
    "---\n",
    "\n",
    "### 4.2\n",
    "\n",
    "Create a new player with `player_id = 2` in the `players` dictionary. Leave the `'player_pokemon'` dictionary empty. Append `'alcatraz'` and `'pacific_beach'` to the `'gyms_visited'` list for player 2.\n",
    "\n",
    "The `'player_name'` and `'time_played'` values are up to you, but must be a string and float, respectively.\n",
    "\n",
    "Remember, the player_id is the key for the player in the players dictionary.\n",
    "\n",
    "Print the `players` dictionary with the new player inserted."
   ]
  },
  {
   "cell_type": "code",
   "execution_count": 6,
   "metadata": {},
   "outputs": [
    {
     "name": "stdout",
     "output_type": "stream",
     "text": [
      "{1: {'player name': 'Chris', 'time played': 2.5, 'player pokemon': {}, 'gyms visited': ['reddit.com', 'twitter.com']}, 2: {'player name': 'Ash', 'time played': 4.0, 'player pokemon': {}, 'gyms visited': ['alcatraz', 'pacific beach']}}\n"
     ]
    }
   ],
   "source": [
    "players[2] = {'player name': 'Ash', 'time played': 4.0, 'player pokemon': {}, 'gyms visited': []}\n",
    "pokemon_gyms.append('alcatraz')\n",
    "pokemon_gyms.append('pacific beach')\n",
    "players[2]['gyms visited'].append('alcatraz')\n",
    "players[2]['gyms visited'].append('pacific beach')\n",
    "print(players)"
   ]
  },
  {
   "cell_type": "markdown",
   "metadata": {},
   "source": [
    "<img src=\"http://imgur.com/l5NasQj.png\" style=\"float: left; margin: 25px 15px 0px 0px; height: 25px\">\n",
    "\n",
    "## 5. Add captured pokemon for each player\n",
    "\n",
    "---\n",
    "\n",
    "The `'player_pokemon'` keyed dictionaries for each player keep track of which of the pokemon each player has.\n",
    "\n",
    "The keys of the `'player_pokemon'` dictionaries are the pokemon ids that correspond to the ids in the `pokedex` dictionary you created earlier. The values are integers specifying the stats for the pokemon.\n",
    "\n",
    "Give player 1 a squirtle. Give player 2 charmander and a bulbasaur.\n",
    "\n",
    "Print the players dictionary after adding the pokemon for each player.\n"
   ]
  },
  {
   "cell_type": "code",
   "execution_count": 7,
   "metadata": {},
   "outputs": [
    {
     "name": "stdout",
     "output_type": "stream",
     "text": [
      "{1: {'gyms visited': ['reddit.com', 'twitter.com'],\n",
      "     'player name': 'Chris',\n",
      "     'player pokemon': [{'attack': 10,\n",
      "                         'defense': 14,\n",
      "                         'hp': 80,\n",
      "                         'name': 'squirtle',\n",
      "                         'special_attack': 15,\n",
      "                         'special_defense': 9,\n",
      "                         'speed': 9,\n",
      "                         'type': 'water'}],\n",
      "     'time played': 2.5},\n",
      " 2: {'gyms visited': ['alcatraz', 'pacific beach'],\n",
      "     'player name': 'Ash',\n",
      "     'player pokemon': [{'attack': 12,\n",
      "                         'defense': 10,\n",
      "                         'hp': 60,\n",
      "                         'name': 'charmander',\n",
      "                         'special_attack': 15,\n",
      "                         'special_defense': 10,\n",
      "                         'speed': 12,\n",
      "                         'type': 'fire'},\n",
      "                        {'attack': 10,\n",
      "                         'defense': 14,\n",
      "                         'hp': 70,\n",
      "                         'name': 'bulbasaur',\n",
      "                         'special_attack': 10,\n",
      "                         'special_defense': 15,\n",
      "                         'speed': 10,\n",
      "                         'type': 'poison'}],\n",
      "     'time played': 4.0}}\n"
     ]
    }
   ],
   "source": [
    "players[1]['player pokemon'] = [pokedex[2]]\n",
    "players[2]['player pokemon'] = [pokedex[1], pokedex[3]]\n",
    "pprint(players)"
   ]
  },
  {
   "cell_type": "markdown",
   "metadata": {},
   "source": [
    "\n",
    "\n",
    "## 6. What gyms have players visited?\n",
    "\n",
    "---\n",
    "<img src=\"http://imgur.com/l5NasQj.png\" style=\"float: left; margin: 25px 15px 0px 0px; height: 25px\">\n",
    "### 6.1\n",
    "\n",
    "Write a for-loop that:\n",
    "\n",
    "1. Iterates through the `pokemon_gyms` list of gym locations you defined before.\n",
    "2. For each gym, iterate through each player in the `players` dictionary with a second, internal for-loop.\n",
    "3. If the player has visited the gym, print out \"[player] has visited [gym location].\", filling in [player] and [gym location] with the current player's name and current gym location."
   ]
  },
  {
   "cell_type": "code",
   "execution_count": 8,
   "metadata": {},
   "outputs": [
    {
     "name": "stdout",
     "output_type": "stream",
     "text": [
      "Chris has visited reddit.com\n",
      "Chris has visited twitter.com\n",
      "Ash has visited alcatraz\n",
      "Ash has visited pacific beach\n"
     ]
    }
   ],
   "source": [
    "for gym in pokemon_gyms:\n",
    "    for player in players.values():\n",
    "        if gym in player['gyms visited']:\n",
    "            print(player['player name'] + ' has visited ' + gym)"
   ]
  },
  {
   "cell_type": "markdown",
   "metadata": {},
   "source": [
    "<img src=\"http://imgur.com/xDpSobf.png\" style=\"float: left; margin: 25px 15px 0px 0px; height: 25px\">\n",
    "### 6.2\n",
    "\n",
    "How many times did that loop run? If you have N gyms and also N players, how many times would it run as a function of N?\n",
    "\n",
    "Can you think of a more efficient way to accomplish the same thing? \n",
    "\n",
    "(You can write your answer as Markdown text.)"
   ]
  },
  {
   "cell_type": "markdown",
   "metadata": {
    "collapsed": true
   },
   "source": [
    "#### Answer:\n",
    "The above loop ran a total of 24 times. 2 loops (for each player) were carried out for 12 gyms = 24 loops total. Since an internal nested loop runs to completion before the outer loop proceeds to the next loop, the total number of loops is (number of iterations of outer loop x number of iterations of inner loop). So for N gyms and N players, the total number of loops would be N x N or N ** 2."
   ]
  },
  {
   "cell_type": "code",
   "execution_count": 9,
   "metadata": {},
   "outputs": [
    {
     "name": "stdout",
     "output_type": "stream",
     "text": [
      "Chris has visited reddit.com\n",
      "Chris has visited twitter.com\n",
      "Ash has visited alcatraz\n",
      "Ash has visited pacific beach\n"
     ]
    }
   ],
   "source": [
    "#This method loops for each player and then iterates only over the gyms that the player has actually visited, meaning the\n",
    "#total number of loops is only 2 * 2 = 4.\n",
    "\n",
    "for player in players.values():\n",
    "    for gym in player['gyms visited']:\n",
    "        print(player['player name'] + ' has visited ' + str(gym))"
   ]
  },
  {
   "cell_type": "markdown",
   "metadata": {},
   "source": [
    "<img src=\"http://imgur.com/l5NasQj.png\" style=\"float: left; margin: 25px 15px 0px 0px; height: 25px\">\n",
    "\n",
    "## 7. Calculate player \"power\".\n",
    "\n",
    "---\n",
    "\n",
    "Define a function that will calculate a player's \"power\". Player power is defined as the sum of the base statistics all of their pokemon.\n",
    "\n",
    "Your function will:\n",
    "\n",
    "1. Accept the `players` dictionary, `pokedex` dictionary, and a player_id as arguments.\n",
    "2. For the specified player_id, look up that player's pokemon and their level(s).\n",
    "3. Find and aggregate the attack and defense values for each of the player's pokemon from the `pokedex` dictionary.\n",
    "4. Print \"[player name]'s power is [player power].\", where the player power is the sum of the base statistics for all of their pokemon.\n",
    "5. Return the player's power value.\n",
    "\n",
    "Print out the pokemon power for each of your players."
   ]
  },
  {
   "cell_type": "code",
   "execution_count": 10,
   "metadata": {},
   "outputs": [
    {
     "name": "stdout",
     "output_type": "stream",
     "text": [
      "Chris's power is 48\n",
      "Ash's power is 96\n"
     ]
    }
   ],
   "source": [
    "def player_pwr(player,pokedex):\n",
    "    \"\"\"Returns the sum of player pokemon attack and defense, taking player id and pokedex as inputs\"\"\"\n",
    "    #Look up the contents of the player's pokemon list\n",
    "    p_pokemon = players[player].get('player pokemon')\n",
    "    \n",
    "    #Generate an empty list to store player pokemon stat values\n",
    "    p_stat_agg = []\n",
    "    \n",
    "    #Iterate through the list of player pokemon and store their attack and defense stat values in the list\n",
    "    for pokemon in p_pokemon:\n",
    "        p_stat_agg.append(pokemon['attack'])\n",
    "        p_stat_agg.append(pokemon['defense'])\n",
    "        p_stat_agg.append(pokemon['special_attack'])\n",
    "        p_stat_agg.append(pokemon['special_defense'])\n",
    "        \n",
    "    #Print the output using the sum of the aggregated stats as the power value\n",
    "    power = print(players[player].get('player name') + \"'s power is \" +  str(sum(p_stat_agg)))\n",
    "    return power\n",
    "\n",
    "player_pwr(1,pokedex)\n",
    "player_pwr(2,pokedex)"
   ]
  },
  {
   "cell_type": "markdown",
   "metadata": {
    "collapsed": true
   },
   "source": [
    "<img src=\"http://imgur.com/l5NasQj.png\" style=\"float: left; margin: 25px 15px 0px 0px; height: 25px\">\n",
    "\n",
    "## 8. Load a pokedex file containing all the pokemon\n",
    "\n",
    "---\n",
    "\n",
    "### 8.1\n",
    "\n",
    "While you were putting together the prototype code, your colleagues were preparing a dataset of Pokemon and their attributes. (This was a rush job, so they may have picked some crazy values for some...)\n",
    "\n",
    "The code below loads information from a comma separated value (csv) file. You need to parse this string into a more useable format. The format of the string is:\n",
    "\n",
    "- Rows are separated by newline characters: \\n\n",
    "- Columns are separated by commas: ,\n",
    "- All cells in the csv are double quoted. Ex: \"PokedexNumber\" is the first cell of the first row.\n",
    "\n",
    "\n",
    "Using for-loops, create a list of lists where each list within the overall list is a row of the csv/matrix, and each element in that list is a cell in that row. Additional criteria:\n",
    "\n",
    "1. Quotes are removed from each cell item.\n",
    "2. Numeric column values are converted to floats.\n",
    "3. There are some cells that are empty and have no information. For these cells put a -1 value in place.\n",
    "\n",
    "Your end result is effectively a matrix. Each list in the outer list is a row, and the *j*th elements of list together form the *j*th column, which represents a data attribute. The first three lists in your pokedex list should look like this:\n",
    "\n",
    "    ['PokedexNumber', 'Name', 'Type', 'Total', 'HP', 'Attack', 'Defense', 'SpecialAttack', 'SpecialDefense', 'Speed']\n",
    "    [1.0, 'Bulbasaur', 'GrassPoison', 318.0, 45.0, 49.0, 49.0, 65.0, 65.0, 45.0]\n",
    "    [2.0, 'Ivysaur', 'GrassPoison', 405.0, 60.0, 62.0, 63.0, 80.0, 80.0, 60.0]"
   ]
  },
  {
   "cell_type": "markdown",
   "metadata": {},
   "source": [
    "### For-loop/List comprehension method"
   ]
  },
  {
   "cell_type": "code",
   "execution_count": 11,
   "metadata": {},
   "outputs": [
    {
     "name": "stdout",
     "output_type": "stream",
     "text": [
      "['PokedexNumber', 'Name', 'Type', 'Total', 'HP', 'Attack', 'Defense', 'SpecialAttack', 'SpecialDefense', 'Speed']\n",
      "[1.0, 'Bulbasaur', 'GrassPoison', 318.0, 45.0, 49.0, 49.0, 65.0, 65.0, 45.0]\n",
      "[2.0, 'Ivysaur', 'GrassPoison', 405.0, 60.0, 62.0, 63.0, 80.0, 80.0, 60.0]\n"
     ]
    }
   ],
   "source": [
    "#Open pokedex file and read it into a list, line by line\n",
    "with open('pokedex_basic.csv', mode = 'r', newline = '\\n') as f:\n",
    "    lines = []\n",
    "    for line in f:\n",
    "        lines.append(line)\n",
    "f.close()\n",
    "\n",
    "#Replace empty values, remove \"\", remove spaces within pokemon names, remove newline characters\n",
    "lines = [line.replace(',,',',-1,') for line in lines]\n",
    "lines = [line.replace('\"',\"\") for line in lines]\n",
    "lines = [line.replace(' ','') for line in lines]\n",
    "lines = [line.rstrip('\\n') for line in lines]\n",
    "\n",
    "#Split up the list of line strings into a list of lists\n",
    "new_lines = []\n",
    "for line in lines:\n",
    "    entry = []\n",
    "    [entry.append(i) for i in line.split()]\n",
    "    new_lines.append(entry)\n",
    "    \n",
    "#Split each list into individual values, using ',' as a delimiter\n",
    "new_lines2 = [x.split(',') for y in new_lines for x in y]\n",
    "\n",
    "#Make final clean list by converting numerical values to floats\n",
    "clean_lines = []\n",
    "for pokemon in new_lines2:\n",
    "    clean_pokemon = []\n",
    "    for value in pokemon:\n",
    "        try:\n",
    "            clean_pokemon.append(float(value))\n",
    "        except:\n",
    "            clean_pokemon.append(value)\n",
    "    clean_lines.append(clean_pokemon)\n",
    "\n",
    "#Print output\n",
    "print(clean_lines[0])\n",
    "print(clean_lines[1])\n",
    "print(clean_lines[2])"
   ]
  },
  {
   "cell_type": "markdown",
   "metadata": {},
   "source": [
    "## Or there's the easy way:"
   ]
  },
  {
   "cell_type": "code",
   "execution_count": 12,
   "metadata": {},
   "outputs": [],
   "source": [
    "# Code to read in pokedex info\n",
    "import csv\n",
    "pokedex_file = 'pokedex_basic.csv'\n",
    "pd_data = []\n",
    "with open(pokedex_file, 'r') as f:\n",
    "    reader = list(csv.reader(f))\n",
    "    pd_data = reader\n",
    "f.close()\n",
    "        \n",
    "# The pokedex string is found in the pd_data variable"
   ]
  },
  {
   "cell_type": "code",
   "execution_count": 13,
   "metadata": {},
   "outputs": [],
   "source": [
    "#Clean up float values and empty values\n",
    "\n",
    "#Define a function to parse strings and turn numeric strings into floats\n",
    "def make_float(n):\n",
    "    try:\n",
    "        float(n)\n",
    "        return float(n)\n",
    "    except:\n",
    "        return n\n",
    "\n",
    "#Generate cleaned data list with empty values replaced with -1 and numeric strings turned into floats\n",
    "pd_data_clean = []\n",
    "for pokemon in pd_data:\n",
    "    pd_data_clean.append([-1 if i is None else make_float(i) for i in pokemon])"
   ]
  },
  {
   "cell_type": "code",
   "execution_count": 14,
   "metadata": {},
   "outputs": [
    {
     "name": "stdout",
     "output_type": "stream",
     "text": [
      "['PokedexNumber', 'Name', 'Type', 'Total', 'HP', 'Attack', 'Defense', 'SpecialAttack', 'SpecialDefense', 'Speed']\n",
      "[1.0, 'Bulbasaur', 'GrassPoison', 318.0, 45.0, 49.0, 49.0, 65.0, 65.0, 45.0]\n",
      "[2.0, 'Ivysaur', 'GrassPoison', 405.0, 60.0, 62.0, 63.0, 80.0, 80.0, 60.0]\n"
     ]
    }
   ],
   "source": [
    "print(pd_data_clean[0])\n",
    "print(pd_data_clean[1])\n",
    "print(pd_data_clean[2])"
   ]
  },
  {
   "cell_type": "markdown",
   "metadata": {},
   "source": [
    "#### The pokemon data generated this way (pd_data_clean) is what I'll use below"
   ]
  },
  {
   "cell_type": "markdown",
   "metadata": {},
   "source": [
    "<img src=\"http://imgur.com/xDpSobf.png\" style=\"float: left; margin: 25px 15px 0px 0px; height: 25px\">\n",
    "\n",
    "### 8.2 Parse the raw pokedex with list comprehensions\n",
    "\n",
    "---\n",
    "\n",
    "Perform the same parsing as above, but **using only a single list comprehension** instead of for loops. You may have nested list comprehensions within the main list comprehension! The output should be exactly the same."
   ]
  },
  {
   "cell_type": "code",
   "execution_count": 15,
   "metadata": {},
   "outputs": [],
   "source": [
    "#As above but nested into one list comprehension\n",
    "pd_data_clean2 = [[-1 if i is None else make_float(i) for i in pokemon] for pokemon in pd_data]"
   ]
  },
  {
   "cell_type": "code",
   "execution_count": 16,
   "metadata": {},
   "outputs": [
    {
     "name": "stdout",
     "output_type": "stream",
     "text": [
      "['PokedexNumber', 'Name', 'Type', 'Total', 'HP', 'Attack', 'Defense', 'SpecialAttack', 'SpecialDefense', 'Speed']\n",
      "[1.0, 'Bulbasaur', 'GrassPoison', 318.0, 45.0, 49.0, 49.0, 65.0, 65.0, 45.0]\n",
      "[2.0, 'Ivysaur', 'GrassPoison', 405.0, 60.0, 62.0, 63.0, 80.0, 80.0, 60.0]\n"
     ]
    }
   ],
   "source": [
    "print(pd_data_clean2[0])\n",
    "print(pd_data_clean2[1])\n",
    "print(pd_data_clean2[2])"
   ]
  },
  {
   "cell_type": "markdown",
   "metadata": {},
   "source": [
    "<img src=\"http://imgur.com/l5NasQj.png\" style=\"float: left; margin: 25px 15px 0px 0px; height: 25px\">\n",
    "\n",
    "## 9. Write a function to generate the full pokedex\n",
    "\n",
    "---\n",
    "\n",
    "Write a function that recreates the pokedex you made before, but with the data read in from the full pokemon file. The `PokedexNumber` should be used as the `pokemon_id` key values for the dictionary of pokemon.\n",
    "\n",
    "Your function should:\n",
    "\n",
    "1. Take the parsed pokedex information you created above as an argument.\n",
    "2. Return a dictionary in the same format as your original pokedex you created before containing the information from the parsed full pokedex file.\n",
    "\n",
    "To test the function, print out the pokemon with id = 100."
   ]
  },
  {
   "cell_type": "code",
   "execution_count": 17,
   "metadata": {
    "scrolled": true
   },
   "outputs": [],
   "source": [
    "def generate_pokedex(data):\n",
    "    \"\"\"Takes list of pokemon data and returns pokedex dictionary\"\"\"\n",
    "    \n",
    "    #Define keys for pokemon dictionary as elements of first set, excluding the pokemon ID\n",
    "    pokemon_stats = data[0][1:]\n",
    "    \n",
    "    #Initiate empty lists for pokemon ID and pokemon stat dictionaries\n",
    "    pokemon_dicts_list = []\n",
    "    pokemon_ids = []\n",
    "    \n",
    "    #Iterate through pokemon sets and create dictionaries from stat values and keys defined above\n",
    "    for pokemon in data[1:]:\n",
    "        pokemon_values = pokemon[1:]\n",
    "        pokemon_dicts = dict(zip(pokemon_stats, pokemon_values))\n",
    "        pokemon_dicts_list.append(pokemon_dicts)\n",
    "        #Add pokemon ID to list of IDs\n",
    "        pokemon_ids.append(pokemon[0])\n",
    "        \n",
    "    #Make final pokedex dictionary by combining list of IDs and list of individual pokemon dictionaries\n",
    "    pokedex = dict(zip(pokemon_ids, pokemon_dicts_list))\n",
    "    return pokedex"
   ]
  },
  {
   "cell_type": "code",
   "execution_count": 18,
   "metadata": {},
   "outputs": [
    {
     "name": "stdout",
     "output_type": "stream",
     "text": [
      "{'Attack': 30.0,\n",
      " 'Defense': 50.0,\n",
      " 'HP': 40.0,\n",
      " 'Name': 'Voltorb',\n",
      " 'SpecialAttack': 55.0,\n",
      " 'SpecialDefense': 55.0,\n",
      " 'Speed': 100.0,\n",
      " 'Total': 330.0,\n",
      " 'Type': 'Electric'}\n"
     ]
    }
   ],
   "source": [
    "#Generate full pokedex using function\n",
    "full_pokedex = generate_pokedex(pd_data_clean)\n",
    "\n",
    "#Test pokedex by printing the pokemon with id = 100\n",
    "pprint(full_pokedex[100])\n"
   ]
  },
  {
   "cell_type": "markdown",
   "metadata": {},
   "source": [
    "<img src=\"http://i.imgur.com/GCAf1UX.png\" style=\"float: left; margin: 25px 15px 0px 0px; height: 25px\">\n",
    "\n",
    "## 10. Write a function to generate a \"filtered\" pokedex\n",
    "---\n",
    "Your function should:\n",
    "1. Take the parsed pokedex information you created above as an argument.\n",
    "1. Take a dictionary as a parameter with keys matching the features of the Pokedex, filtering by exact match for string type values, and/or filter continuous variables specified value that is greater than or equal to the dictionary key parameter.\n",
    "1. Return multiple elements from the Pokedex\n",
    "\n",
    "Example:\n",
    "\n",
    "```python\n",
    "\n",
    "# Only filter based on parameters passed\n",
    "filter_options = {\n",
    "    'Attack':   25,\n",
    "    'Defense':  30,\n",
    "    'Type':     'Electric'\n",
    "}\n",
    "\n",
    "# Return records with attack >= 24, defense >= 30, and type == \"Electric\"\n",
    "# Also anticipate that other paramters can also be passed such as \"SpecialAttack\", \"Speed\", etc.\n",
    "filtered_pokedex(pokedex_data, filter=filter_options)\n",
    "\n",
    "# Example output:\n",
    "# [{'Attack': 30.0,\n",
    "#  'Defense': 50.0,\n",
    "#  'HP': 40.0,\n",
    "#  'Name': 'Voltorb',\n",
    "#  'SpecialAttack': 55.0,\n",
    "#  'SpecialDefense': 55.0,\n",
    "#  'Speed': 100.0,\n",
    "#  'Total': 330.0,\n",
    "#  'Type': 'Electric'},\n",
    "#  {'Attack': 30.0,\n",
    "#  'Defense': 33.0,\n",
    "#  'HP': 32.0,\n",
    "#  'Name': 'Pikachu',\n",
    "#  'SpecialAttack': 55.0,\n",
    "#  'SpecialDefense': 55.0,\n",
    "#  'Speed': 100.0,\n",
    "#  'Total': 330.0,\n",
    "#  'Type': 'Electric'},\n",
    "#  ... etc\n",
    "#  ]\n",
    "\n",
    "```\n",
    "\n"
   ]
  },
  {
   "cell_type": "code",
   "execution_count": 19,
   "metadata": {
    "scrolled": true
   },
   "outputs": [],
   "source": [
    "#Define a function to return a pokedex filtered by a dictionary of parameters\n",
    "filter_options = {}\n",
    "def filtered_dex(data, filter = filter_options):\n",
    "    \"\"\"Accepts pokemon data as input along with a filter_options dictionary and returns a pokedex filtered for the parameters in the dictionary\"\"\"\n",
    "    #Make indexing dictionary\n",
    "    index_map = {'PokedexNumber':0, 'Name':1, 'Type':2, 'Total':3, 'HP':4, 'Attack':5, 'Defense':6, 'SpecialAttack':7, 'SpecialDefense':8 , 'Speed':9}\n",
    "    parameter_names = list(filter_options.keys())\n",
    "    \n",
    "    #Initiate empty lists to store pokemon filtered by Name/Type (strings), stats(ints) and the final filtered list\n",
    "    filtered_strings = []\n",
    "    filtered_list=[]\n",
    "    \n",
    "    #Iterate over all the pokemon, skipping over the first entry which is the column/stat names\n",
    "    for pokemon in data[1:]:\n",
    "    #Iterate through the parameters we're filtering by\n",
    "            for parameter in filter_options.keys():\n",
    "    #Initiate a set to hold the index numbers of these parameters, so we can locate these stats in the pokemon lists later\n",
    "                parameter_index = []\n",
    "                parameter_index.append(index_map[parameter])\n",
    "    #List comprehensions! These will go through and check if the strings are equal between the filter and pokemon info if we're searching Name or Type. Next one does the same for numerical stats.\n",
    "    #If a pokemon fulfils more than one requirement it's appended multiple times. Only those that are appended for *all* parameters are appended to a final filtered list.\n",
    "                [filtered_strings.append(pokemon) for num in parameter_index if num <= 2 and filter_options[parameter] in pokemon]\n",
    "                [filtered_strings.append(pokemon) for num in parameter_index if num > 2 and pokemon[num] >= filter_options[parameter]]\n",
    "                [filtered_list.append(pokemon) for pokemon in data if ((filtered_strings).count(pokemon) == len(filter_options.keys())) and (pokemon not in filtered_list)]\n",
    "                \n",
    "    #The rest of the function is similar to the above pokedex generator function\n",
    "\n",
    "    pokemon_stats = data[0][1:]\n",
    "    \n",
    "    pokemon_dicts_list = []\n",
    "    pokemon_ids = []\n",
    "    \n",
    "    for pokemon in filtered_list[1:]:\n",
    "        pokemon_values = pokemon[1:]\n",
    "        pokemon_dicts = dict(zip(pokemon_stats, pokemon_values))\n",
    "        pokemon_dicts_list.append(pokemon_dicts)\n",
    "        pokemon_ids.append(pokemon[0])\n",
    "            \n",
    "    pokedex = dict(zip(pokemon_ids, pokemon_dicts_list))\n",
    "    \n",
    "    return pokedex"
   ]
  },
  {
   "cell_type": "code",
   "execution_count": 20,
   "metadata": {},
   "outputs": [
    {
     "data": {
      "text/plain": [
       "{150.0: {'Name': 'MewtwoMega Mewtwo Y',\n",
       "  'Type': 'Psychic',\n",
       "  'Total': 780.0,\n",
       "  'HP': 106.0,\n",
       "  'Attack': 150.0,\n",
       "  'Defense': 70.0,\n",
       "  'SpecialAttack': 194.0,\n",
       "  'SpecialDefense': 120.0,\n",
       "  'Speed': 140.0},\n",
       " 151.0: {'Name': 'Mew',\n",
       "  'Type': 'Psychic',\n",
       "  'Total': 600.0,\n",
       "  'HP': 100.0,\n",
       "  'Attack': 100.0,\n",
       "  'Defense': 100.0,\n",
       "  'SpecialAttack': 100.0,\n",
       "  'SpecialDefense': 100.0,\n",
       "  'Speed': 100.0},\n",
       " 386.0: {'Name': 'DeoxysAttack Forme',\n",
       "  'Type': 'Psychic',\n",
       "  'Total': 600.0,\n",
       "  'HP': 50.0,\n",
       "  'Attack': 180.0,\n",
       "  'Defense': 20.0,\n",
       "  'SpecialAttack': 180.0,\n",
       "  'SpecialDefense': 20.0,\n",
       "  'Speed': 150.0}}"
      ]
     },
     "execution_count": 20,
     "metadata": {},
     "output_type": "execute_result"
    }
   ],
   "source": [
    "#Define filter options\n",
    "filter_options = {'Type':'Psychic','Total':600, 'SpecialAttack':100}\n",
    "#Run pokedex filter function (This might take a while to run)\n",
    "filtered_dex(pd_data_clean)"
   ]
  },
  {
   "cell_type": "markdown",
   "metadata": {
    "collapsed": true
   },
   "source": [
    "\n",
    "## 9. Descriptive statistics on the prototype pokedex\n",
    "\n",
    "<img src=\"http://imgur.com/l5NasQj.png\" style=\"float: left; margin: 25px 15px 0px 0px; height: 25px\">\n",
    "### 9.1\n",
    "\n",
    "What is the population mean and standard deviation of the \"Total\" attribute for all characters in the Pokedex?\n",
    "\n"
   ]
  },
  {
   "cell_type": "code",
   "execution_count": 21,
   "metadata": {},
   "outputs": [
    {
     "name": "stdout",
     "output_type": "stream",
     "text": [
      "Mean = 424.9500693481276\n",
      "Standard Deviation = 118.71177581751657\n"
     ]
    }
   ],
   "source": [
    "#Import numpy for stats\n",
    "import numpy as np\n",
    "\n",
    "#Initiate empty list of 'Total' attribute values\n",
    "totals = []\n",
    "\n",
    "#Retrieve 'Total' attribute values and use them to populate totals list\n",
    "[totals.append(full_pokedex[i]['Total']) for i in full_pokedex]\n",
    "\n",
    "#Calculate mean and standard deviation\n",
    "mean_totals = np.mean(totals)\n",
    "std_totals = np.std(totals)\n",
    "\n",
    "#Print results\n",
    "print('Mean = ' + str(mean_totals))\n",
    "print('Standard Deviation = ' + str(std_totals))"
   ]
  },
  {
   "cell_type": "markdown",
   "metadata": {},
   "source": [
    "<img src=\"http://imgur.com/l5NasQj.png\" style=\"float: left; margin: 25px 15px 0px 0px; height: 25px\">\n",
    "### 9.2\n",
    "\n",
    "The game is no fun if the characters are wildly unbalanced! Are any characters \"overpowered\", which we'll define as having a \"Total\" more than three standard deviations from the population mean?"
   ]
  },
  {
   "cell_type": "code",
   "execution_count": 22,
   "metadata": {},
   "outputs": [
    {
     "name": "stdout",
     "output_type": "stream",
     "text": [
      "0\n"
     ]
    }
   ],
   "source": [
    "#Initiate empty list 'ubers' for overpowered pokemon\n",
    "ubers = []\n",
    "\n",
    "#Define threshold for being \"overpowered\"\n",
    "op_threshold = mean_totals + (3 * std_totals)\n",
    "\n",
    "#Check each pokemon in the pokedex and add their name to the ubers list if their Total stat is above threshold\n",
    "for pokemon in full_pokedex:\n",
    "    if full_pokedex[pokemon]['Total'] > op_threshold:\n",
    "        ubers.append(full_pokedex[pokemon]['Name'])\n",
    "\n",
    "#Print how many elements are in ubers\n",
    "print(len(ubers))"
   ]
  },
  {
   "cell_type": "markdown",
   "metadata": {},
   "source": [
    "##### No pokemon are overpowered if we define overpowered as having a stat total of more than three standard deviations from the mean"
   ]
  },
  {
   "cell_type": "code",
   "execution_count": 23,
   "metadata": {},
   "outputs": [
    {
     "name": "stdout",
     "output_type": "stream",
     "text": [
      "25\n",
      "['MewtwoMega Mewtwo Y', 'TyranitarMega Tyranitar', 'Lugia', 'Ho-oh', 'Slaking', 'SalamenceMega Salamence', 'MetagrossMega Metagross', 'LatiasMega Latias', 'LatiosMega Latios', 'KyogrePrimal Kyogre', 'GroudonPrimal Groudon', 'RayquazaMega Rayquaza', 'GarchompMega Garchomp', 'Dialga', 'Palkia', 'Regigigas', 'GiratinaOrigin Forme', 'Arceus', 'Reshiram', 'Zekrom', 'KyuremWhite Kyurem', 'Xerneas', 'Yveltal', 'DiancieMega Diancie', 'HoopaHoopa Unbound']\n"
     ]
    }
   ],
   "source": [
    "#Checking the script by looking for any pokemon with stat Totals 2 standard deviations above the mean\n",
    "almost_ubers = []\n",
    "\n",
    "op_threshold = mean_totals + (2 * std_totals)\n",
    "\n",
    "for pokemon in full_pokedex:\n",
    "    if full_pokedex[pokemon]['Total'] > op_threshold:\n",
    "        almost_ubers.append(full_pokedex[pokemon]['Name'])\n",
    "\n",
    "print(len(almost_ubers))\n",
    "print(almost_ubers)"
   ]
  },
  {
   "cell_type": "markdown",
   "metadata": {},
   "source": [
    "<img src=\"http://imgur.com/xDpSobf.png\" style=\"float: left; margin: 25px 15px 0px 0px; height: 25px\">\n",
    "\n",
    "## 10. Calibrate the frequency of Pokemon\n",
    "\n",
    "The design team wants you to make the powerful Pokemon rare, and the weaklings more common. How would you set the probability $p_i$ of finding Pokemon *i* each time a player visits a gym?\n",
    "\n",
    "Write a function that takes in a Pokedex number and returns a value $p_i$ for that character.\n",
    "\n",
    "Hint: there are many ways you could do this. What do _you_ think makes sense? Start with simplifying assumptions: for example, you could assume that the probabilities of encountering any two Pokemon on one visit to a gym are independent of each other."
   ]
  },
  {
   "cell_type": "code",
   "execution_count": 24,
   "metadata": {},
   "outputs": [
    {
     "name": "stdout",
     "output_type": "stream",
     "text": [
      "highest total: 780.0\n",
      "lowest toatl: 180.0\n",
      "range: 600.0\n",
      "pokedex length: 721\n"
     ]
    }
   ],
   "source": [
    "#Some exploration of stat totals\n",
    "print('highest total: ' + str(max(totals)))\n",
    "print('lowest toatl: ' + str(min(totals)))\n",
    "print('range: ' + str(max(totals) - min(totals)))\n",
    "print('pokedex length: ' + str(len(totals)))"
   ]
  },
  {
   "cell_type": "code",
   "execution_count": 25,
   "metadata": {},
   "outputs": [],
   "source": [
    "#First establish a frequency value for each pokemon based on their total stats, with higher Total making the frequency modifier lower\n",
    "#These values could be tweaked if the rarity of each pokemon needed to be modified\n",
    "pokemon_rarity = []\n",
    "for pokemon in full_pokedex:\n",
    "    if full_pokedex[pokemon]['Total'] >= 700:\n",
    "        freq = 1\n",
    "    elif full_pokedex[pokemon]['Total'] >= 600:\n",
    "        freq = 2\n",
    "    elif full_pokedex[pokemon]['Total'] >= 500:\n",
    "        freq = 3\n",
    "    elif full_pokedex[pokemon]['Total'] >= 400:\n",
    "        freq = 4\n",
    "    elif full_pokedex[pokemon]['Total'] >= 300:\n",
    "        freq = 5\n",
    "    elif full_pokedex[pokemon]['Total'] >= 200:\n",
    "        freq = 6\n",
    "    else:\n",
    "        freq = 7\n",
    "    \n",
    "#Now make up a list consisting of all pokemon in which each pokemon appears more times the higher the 'rarity' number\n",
    "#That is, powerful pokemon will appear in the list fewer times, potential pokemon would be drawn randomly from this list\n",
    "    pokemon_rarity.append([full_pokedex[pokemon]['Name']] * freq)\n",
    "\n",
    "#The pokemon rarity list is a list of lists, but must be flattened before further use    \n",
    "flat_rarity = [i for l in pokemon_rarity for i in l]"
   ]
  },
  {
   "cell_type": "code",
   "execution_count": 26,
   "metadata": {},
   "outputs": [],
   "source": [
    "#Now define a function to look up the probability of catching a specific pokemon\n",
    "def encounter_rate(p):   \n",
    "    \"\"\"Accepts pokemon ID as input and returns the probability of encountering that specific pokemon\"\"\"\n",
    "    #Work out the probability of catching a specific pokemon by counting how many times the pokemon appears in the list then \n",
    "    #dividing by the total number of entries in the list\n",
    "    probability =  flat_rarity.count(full_pokedex[p]['Name']) / len(flat_rarity)\n",
    "    return probability"
   ]
  },
  {
   "cell_type": "code",
   "execution_count": 27,
   "metadata": {},
   "outputs": [
    {
     "name": "stdout",
     "output_type": "stream",
     "text": [
      "The probability of catching Voltorb is 0.0016567263088137839\n"
     ]
    }
   ],
   "source": [
    "#Now test the function with an example ID; note that because there are 721 pokemon in total, the probability of catching \n",
    "#any specific pokemon is still quite low\n",
    "\n",
    "print('The probability of catching ' + str(full_pokedex[100]['Name']) + ' is ' + str(encounter_rate(100)))"
   ]
  },
  {
   "cell_type": "code",
   "execution_count": 28,
   "metadata": {},
   "outputs": [
    {
     "name": "stdout",
     "output_type": "stream",
     "text": [
      "0.9999999999999982\n"
     ]
    }
   ],
   "source": [
    "#Checking the sum of probabilities\n",
    "total_probs = []\n",
    "for i in full_pokedex.keys():\n",
    "    total_probs.append(encounter_rate(i))\n",
    "print(sum(total_probs))"
   ]
  },
  {
   "cell_type": "markdown",
   "metadata": {},
   "source": [
    "## Catch a pokemon!"
   ]
  },
  {
   "cell_type": "code",
   "execution_count": 29,
   "metadata": {},
   "outputs": [],
   "source": [
    "import random\n",
    "\n",
    "def catch():\n",
    "    caught_pokemon = random.choice(flat_rarity)\n",
    "    print('Gotcha!')\n",
    "    print(str(caught_pokemon.upper()) + ' was caught!')"
   ]
  },
  {
   "cell_type": "code",
   "execution_count": 30,
   "metadata": {},
   "outputs": [
    {
     "name": "stdout",
     "output_type": "stream",
     "text": [
      "Gotcha!\n",
      "ESCAVALIER was caught!\n"
     ]
    }
   ],
   "source": [
    "#Execute to catch a pokemon\n",
    "catch()"
   ]
  }
 ],
 "metadata": {
  "anaconda-cloud": {},
  "kernelspec": {
   "display_name": "Python 3",
   "language": "python",
   "name": "python3"
  },
  "language_info": {
   "codemirror_mode": {
    "name": "ipython",
    "version": 3
   },
   "file_extension": ".py",
   "mimetype": "text/x-python",
   "name": "python",
   "nbconvert_exporter": "python",
   "pygments_lexer": "ipython3",
   "version": "3.6.5"
  }
 },
 "nbformat": 4,
 "nbformat_minor": 1
}
